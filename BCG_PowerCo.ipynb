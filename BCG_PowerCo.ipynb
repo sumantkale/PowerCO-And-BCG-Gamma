{
  "cells": [
    {
      "cell_type": "markdown",
      "id": "a207638d-2d90-4a41-81e0-f86b35a174f9",
      "metadata": {
        "id": "a207638d-2d90-4a41-81e0-f86b35a174f9"
      },
      "source": [
        "# Exploratory Data Analysis\n",
        "\n"
      ]
    },
    {
      "cell_type": "code",
      "execution_count": 19,
      "id": "21fa22a3-62fc-4ee9-ad3b-5e3fbc059bdf",
      "metadata": {
        "id": "21fa22a3-62fc-4ee9-ad3b-5e3fbc059bdf"
      },
      "outputs": [],
      "source": [
        "import matplotlib.pyplot as plt\n",
        "import seaborn as sns\n",
        "import pandas as pd\n",
        "%matplotlib inline\n",
        "sns.set(color_codes=True)"
      ]
    },
    {
      "cell_type": "markdown",
      "id": "88cb5312-cbc0-4193-b84e-2c94455c9edf",
      "metadata": {
        "id": "88cb5312-cbc0-4193-b84e-2c94455c9edf"
      },
      "source": [
        "---\n",
        "\n",
        "## 2. Loading data with Pandas\n",
        "\n",
        "We need to load `client_data.csv` and `price_data.csv` into individual dataframes so that we can work with them in Python"
      ]
    },
    {
      "cell_type": "code",
      "execution_count": 20,
      "id": "82e6a4ae-2b8a-4152-b04f-0c998466fd50",
      "metadata": {
        "id": "82e6a4ae-2b8a-4152-b04f-0c998466fd50"
      },
      "outputs": [],
      "source": [
        "client_df = pd.read_csv('/content/client_data.csv')\n",
        "price_df = pd.read_csv('/content/price_data.csv')"
      ]
    },
    {
      "cell_type": "markdown",
      "id": "4ac7aaab-7c26-40ca-8f63-cf2ef9541ce6",
      "metadata": {
        "id": "4ac7aaab-7c26-40ca-8f63-cf2ef9541ce6"
      },
      "source": [
        "Let's look at the first 3 rows of both dataframes to see what the data looks like"
      ]
    },
    {
      "cell_type": "code",
      "execution_count": 21,
      "id": "dcf0d488-d3df-4819-a52b-e335c0674e43",
      "metadata": {
        "colab": {
          "base_uri": "https://localhost:8080/",
          "height": 288
        },
        "id": "dcf0d488-d3df-4819-a52b-e335c0674e43",
        "outputId": "61f5c4ab-8857-47d1-861d-ff69d7ce383c"
      },
      "outputs": [
        {
          "output_type": "execute_result",
          "data": {
            "text/plain": [
              "                                 id                     channel_sales  \\\n",
              "0  24011ae4ebbe3035111d65fa7c15bc57  foosdfpfkusacimwkcsosbicdxkicaua   \n",
              "1  d29c2c54acc38ff3c0614d0a653813dd                           MISSING   \n",
              "2  764c75f661154dac3a6c254cd082ea7d  foosdfpfkusacimwkcsosbicdxkicaua   \n",
              "\n",
              "   cons_12m  cons_gas_12m  cons_last_month  date_activ    date_end  \\\n",
              "0         0         54946                0  2013-06-15  2016-06-15   \n",
              "1      4660             0                0  2009-08-21  2016-08-30   \n",
              "2       544             0                0  2010-04-16  2016-04-16   \n",
              "\n",
              "  date_modif_prod date_renewal  forecast_cons_12m  ...  has_gas  imp_cons  \\\n",
              "0      2015-11-01   2015-06-23               0.00  ...        t       0.0   \n",
              "1      2009-08-21   2015-08-31             189.95  ...        f       0.0   \n",
              "2      2010-04-16   2015-04-17              47.96  ...        f       0.0   \n",
              "\n",
              "   margin_gross_pow_ele  margin_net_pow_ele  nb_prod_act  net_margin  \\\n",
              "0                 25.44               25.44            2      678.99   \n",
              "1                 16.38               16.38            1       18.89   \n",
              "2                 28.60               28.60            1        6.60   \n",
              "\n",
              "  num_years_antig                         origin_up  pow_max  churn  \n",
              "0               3  lxidpiddsbxsbosboudacockeimpuepw   43.648      1  \n",
              "1               6  kamkkxfxxuwbdslkwifmmcsiusiuosws   13.800      0  \n",
              "2               6  kamkkxfxxuwbdslkwifmmcsiusiuosws   13.856      0  \n",
              "\n",
              "[3 rows x 26 columns]"
            ],
            "text/html": [
              "\n",
              "\n",
              "  <div id=\"df-4a883e7c-17fb-4823-9b7a-cd86aee51963\">\n",
              "    <div class=\"colab-df-container\">\n",
              "      <div>\n",
              "<style scoped>\n",
              "    .dataframe tbody tr th:only-of-type {\n",
              "        vertical-align: middle;\n",
              "    }\n",
              "\n",
              "    .dataframe tbody tr th {\n",
              "        vertical-align: top;\n",
              "    }\n",
              "\n",
              "    .dataframe thead th {\n",
              "        text-align: right;\n",
              "    }\n",
              "</style>\n",
              "<table border=\"1\" class=\"dataframe\">\n",
              "  <thead>\n",
              "    <tr style=\"text-align: right;\">\n",
              "      <th></th>\n",
              "      <th>id</th>\n",
              "      <th>channel_sales</th>\n",
              "      <th>cons_12m</th>\n",
              "      <th>cons_gas_12m</th>\n",
              "      <th>cons_last_month</th>\n",
              "      <th>date_activ</th>\n",
              "      <th>date_end</th>\n",
              "      <th>date_modif_prod</th>\n",
              "      <th>date_renewal</th>\n",
              "      <th>forecast_cons_12m</th>\n",
              "      <th>...</th>\n",
              "      <th>has_gas</th>\n",
              "      <th>imp_cons</th>\n",
              "      <th>margin_gross_pow_ele</th>\n",
              "      <th>margin_net_pow_ele</th>\n",
              "      <th>nb_prod_act</th>\n",
              "      <th>net_margin</th>\n",
              "      <th>num_years_antig</th>\n",
              "      <th>origin_up</th>\n",
              "      <th>pow_max</th>\n",
              "      <th>churn</th>\n",
              "    </tr>\n",
              "  </thead>\n",
              "  <tbody>\n",
              "    <tr>\n",
              "      <th>0</th>\n",
              "      <td>24011ae4ebbe3035111d65fa7c15bc57</td>\n",
              "      <td>foosdfpfkusacimwkcsosbicdxkicaua</td>\n",
              "      <td>0</td>\n",
              "      <td>54946</td>\n",
              "      <td>0</td>\n",
              "      <td>2013-06-15</td>\n",
              "      <td>2016-06-15</td>\n",
              "      <td>2015-11-01</td>\n",
              "      <td>2015-06-23</td>\n",
              "      <td>0.00</td>\n",
              "      <td>...</td>\n",
              "      <td>t</td>\n",
              "      <td>0.0</td>\n",
              "      <td>25.44</td>\n",
              "      <td>25.44</td>\n",
              "      <td>2</td>\n",
              "      <td>678.99</td>\n",
              "      <td>3</td>\n",
              "      <td>lxidpiddsbxsbosboudacockeimpuepw</td>\n",
              "      <td>43.648</td>\n",
              "      <td>1</td>\n",
              "    </tr>\n",
              "    <tr>\n",
              "      <th>1</th>\n",
              "      <td>d29c2c54acc38ff3c0614d0a653813dd</td>\n",
              "      <td>MISSING</td>\n",
              "      <td>4660</td>\n",
              "      <td>0</td>\n",
              "      <td>0</td>\n",
              "      <td>2009-08-21</td>\n",
              "      <td>2016-08-30</td>\n",
              "      <td>2009-08-21</td>\n",
              "      <td>2015-08-31</td>\n",
              "      <td>189.95</td>\n",
              "      <td>...</td>\n",
              "      <td>f</td>\n",
              "      <td>0.0</td>\n",
              "      <td>16.38</td>\n",
              "      <td>16.38</td>\n",
              "      <td>1</td>\n",
              "      <td>18.89</td>\n",
              "      <td>6</td>\n",
              "      <td>kamkkxfxxuwbdslkwifmmcsiusiuosws</td>\n",
              "      <td>13.800</td>\n",
              "      <td>0</td>\n",
              "    </tr>\n",
              "    <tr>\n",
              "      <th>2</th>\n",
              "      <td>764c75f661154dac3a6c254cd082ea7d</td>\n",
              "      <td>foosdfpfkusacimwkcsosbicdxkicaua</td>\n",
              "      <td>544</td>\n",
              "      <td>0</td>\n",
              "      <td>0</td>\n",
              "      <td>2010-04-16</td>\n",
              "      <td>2016-04-16</td>\n",
              "      <td>2010-04-16</td>\n",
              "      <td>2015-04-17</td>\n",
              "      <td>47.96</td>\n",
              "      <td>...</td>\n",
              "      <td>f</td>\n",
              "      <td>0.0</td>\n",
              "      <td>28.60</td>\n",
              "      <td>28.60</td>\n",
              "      <td>1</td>\n",
              "      <td>6.60</td>\n",
              "      <td>6</td>\n",
              "      <td>kamkkxfxxuwbdslkwifmmcsiusiuosws</td>\n",
              "      <td>13.856</td>\n",
              "      <td>0</td>\n",
              "    </tr>\n",
              "  </tbody>\n",
              "</table>\n",
              "<p>3 rows × 26 columns</p>\n",
              "</div>\n",
              "      <button class=\"colab-df-convert\" onclick=\"convertToInteractive('df-4a883e7c-17fb-4823-9b7a-cd86aee51963')\"\n",
              "              title=\"Convert this dataframe to an interactive table.\"\n",
              "              style=\"display:none;\">\n",
              "\n",
              "  <svg xmlns=\"http://www.w3.org/2000/svg\" height=\"24px\"viewBox=\"0 0 24 24\"\n",
              "       width=\"24px\">\n",
              "    <path d=\"M0 0h24v24H0V0z\" fill=\"none\"/>\n",
              "    <path d=\"M18.56 5.44l.94 2.06.94-2.06 2.06-.94-2.06-.94-.94-2.06-.94 2.06-2.06.94zm-11 1L8.5 8.5l.94-2.06 2.06-.94-2.06-.94L8.5 2.5l-.94 2.06-2.06.94zm10 10l.94 2.06.94-2.06 2.06-.94-2.06-.94-.94-2.06-.94 2.06-2.06.94z\"/><path d=\"M17.41 7.96l-1.37-1.37c-.4-.4-.92-.59-1.43-.59-.52 0-1.04.2-1.43.59L10.3 9.45l-7.72 7.72c-.78.78-.78 2.05 0 2.83L4 21.41c.39.39.9.59 1.41.59.51 0 1.02-.2 1.41-.59l7.78-7.78 2.81-2.81c.8-.78.8-2.07 0-2.86zM5.41 20L4 18.59l7.72-7.72 1.47 1.35L5.41 20z\"/>\n",
              "  </svg>\n",
              "      </button>\n",
              "\n",
              "\n",
              "\n",
              "    <div id=\"df-4c96269e-1911-4af7-93dc-241f4aec6d88\">\n",
              "      <button class=\"colab-df-quickchart\" onclick=\"quickchart('df-4c96269e-1911-4af7-93dc-241f4aec6d88')\"\n",
              "              title=\"Suggest charts.\"\n",
              "              style=\"display:none;\">\n",
              "\n",
              "<svg xmlns=\"http://www.w3.org/2000/svg\" height=\"24px\"viewBox=\"0 0 24 24\"\n",
              "     width=\"24px\">\n",
              "    <g>\n",
              "        <path d=\"M19 3H5c-1.1 0-2 .9-2 2v14c0 1.1.9 2 2 2h14c1.1 0 2-.9 2-2V5c0-1.1-.9-2-2-2zM9 17H7v-7h2v7zm4 0h-2V7h2v10zm4 0h-2v-4h2v4z\"/>\n",
              "    </g>\n",
              "</svg>\n",
              "      </button>\n",
              "    </div>\n",
              "\n",
              "<style>\n",
              "  .colab-df-quickchart {\n",
              "    background-color: #E8F0FE;\n",
              "    border: none;\n",
              "    border-radius: 50%;\n",
              "    cursor: pointer;\n",
              "    display: none;\n",
              "    fill: #1967D2;\n",
              "    height: 32px;\n",
              "    padding: 0 0 0 0;\n",
              "    width: 32px;\n",
              "  }\n",
              "\n",
              "  .colab-df-quickchart:hover {\n",
              "    background-color: #E2EBFA;\n",
              "    box-shadow: 0px 1px 2px rgba(60, 64, 67, 0.3), 0px 1px 3px 1px rgba(60, 64, 67, 0.15);\n",
              "    fill: #174EA6;\n",
              "  }\n",
              "\n",
              "  [theme=dark] .colab-df-quickchart {\n",
              "    background-color: #3B4455;\n",
              "    fill: #D2E3FC;\n",
              "  }\n",
              "\n",
              "  [theme=dark] .colab-df-quickchart:hover {\n",
              "    background-color: #434B5C;\n",
              "    box-shadow: 0px 1px 3px 1px rgba(0, 0, 0, 0.15);\n",
              "    filter: drop-shadow(0px 1px 2px rgba(0, 0, 0, 0.3));\n",
              "    fill: #FFFFFF;\n",
              "  }\n",
              "</style>\n",
              "\n",
              "    <script>\n",
              "      async function quickchart(key) {\n",
              "        const containerElement = document.querySelector('#' + key);\n",
              "        const charts = await google.colab.kernel.invokeFunction(\n",
              "            'suggestCharts', [key], {});\n",
              "      }\n",
              "    </script>\n",
              "\n",
              "      <script>\n",
              "\n",
              "function displayQuickchartButton(domScope) {\n",
              "  let quickchartButtonEl =\n",
              "    domScope.querySelector('#df-4c96269e-1911-4af7-93dc-241f4aec6d88 button.colab-df-quickchart');\n",
              "  quickchartButtonEl.style.display =\n",
              "    google.colab.kernel.accessAllowed ? 'block' : 'none';\n",
              "}\n",
              "\n",
              "        displayQuickchartButton(document);\n",
              "      </script>\n",
              "      <style>\n",
              "    .colab-df-container {\n",
              "      display:flex;\n",
              "      flex-wrap:wrap;\n",
              "      gap: 12px;\n",
              "    }\n",
              "\n",
              "    .colab-df-convert {\n",
              "      background-color: #E8F0FE;\n",
              "      border: none;\n",
              "      border-radius: 50%;\n",
              "      cursor: pointer;\n",
              "      display: none;\n",
              "      fill: #1967D2;\n",
              "      height: 32px;\n",
              "      padding: 0 0 0 0;\n",
              "      width: 32px;\n",
              "    }\n",
              "\n",
              "    .colab-df-convert:hover {\n",
              "      background-color: #E2EBFA;\n",
              "      box-shadow: 0px 1px 2px rgba(60, 64, 67, 0.3), 0px 1px 3px 1px rgba(60, 64, 67, 0.15);\n",
              "      fill: #174EA6;\n",
              "    }\n",
              "\n",
              "    [theme=dark] .colab-df-convert {\n",
              "      background-color: #3B4455;\n",
              "      fill: #D2E3FC;\n",
              "    }\n",
              "\n",
              "    [theme=dark] .colab-df-convert:hover {\n",
              "      background-color: #434B5C;\n",
              "      box-shadow: 0px 1px 3px 1px rgba(0, 0, 0, 0.15);\n",
              "      filter: drop-shadow(0px 1px 2px rgba(0, 0, 0, 0.3));\n",
              "      fill: #FFFFFF;\n",
              "    }\n",
              "  </style>\n",
              "\n",
              "      <script>\n",
              "        const buttonEl =\n",
              "          document.querySelector('#df-4a883e7c-17fb-4823-9b7a-cd86aee51963 button.colab-df-convert');\n",
              "        buttonEl.style.display =\n",
              "          google.colab.kernel.accessAllowed ? 'block' : 'none';\n",
              "\n",
              "        async function convertToInteractive(key) {\n",
              "          const element = document.querySelector('#df-4a883e7c-17fb-4823-9b7a-cd86aee51963');\n",
              "          const dataTable =\n",
              "            await google.colab.kernel.invokeFunction('convertToInteractive',\n",
              "                                                     [key], {});\n",
              "          if (!dataTable) return;\n",
              "\n",
              "          const docLinkHtml = 'Like what you see? Visit the ' +\n",
              "            '<a target=\"_blank\" href=https://colab.research.google.com/notebooks/data_table.ipynb>data table notebook</a>'\n",
              "            + ' to learn more about interactive tables.';\n",
              "          element.innerHTML = '';\n",
              "          dataTable['output_type'] = 'display_data';\n",
              "          await google.colab.output.renderOutput(dataTable, element);\n",
              "          const docLink = document.createElement('div');\n",
              "          docLink.innerHTML = docLinkHtml;\n",
              "          element.appendChild(docLink);\n",
              "        }\n",
              "      </script>\n",
              "    </div>\n",
              "  </div>\n"
            ]
          },
          "metadata": {},
          "execution_count": 21
        }
      ],
      "source": [
        "client_df.head(3)"
      ]
    },
    {
      "cell_type": "markdown",
      "id": "1081f742-7967-457e-956f-94b8d4e6b46e",
      "metadata": {
        "id": "1081f742-7967-457e-956f-94b8d4e6b46e"
      },
      "source": [
        "With the client data, we have a mix of numeric and categorical data, which we will need to transform before modelling later"
      ]
    },
    {
      "cell_type": "code",
      "execution_count": 22,
      "id": "2654a02d-8cf3-4a18-903e-b4f7f95d8e9e",
      "metadata": {
        "colab": {
          "base_uri": "https://localhost:8080/",
          "height": 207
        },
        "id": "2654a02d-8cf3-4a18-903e-b4f7f95d8e9e",
        "outputId": "d1f6823a-fe69-4c46-c1a3-df319573532e"
      },
      "outputs": [
        {
          "output_type": "execute_result",
          "data": {
            "text/plain": [
              "                                 id  price_date  price_off_peak_var  \\\n",
              "0  038af19179925da21a25619c5a24b745  2015-01-01            0.151367   \n",
              "1  038af19179925da21a25619c5a24b745  2015-02-01            0.151367   \n",
              "2  038af19179925da21a25619c5a24b745  2015-03-01            0.151367   \n",
              "\n",
              "   price_peak_var  price_mid_peak_var  price_off_peak_fix  price_peak_fix  \\\n",
              "0             0.0                 0.0           44.266931             0.0   \n",
              "1             0.0                 0.0           44.266931             0.0   \n",
              "2             0.0                 0.0           44.266931             0.0   \n",
              "\n",
              "   price_mid_peak_fix  \n",
              "0                 0.0  \n",
              "1                 0.0  \n",
              "2                 0.0  "
            ],
            "text/html": [
              "\n",
              "\n",
              "  <div id=\"df-ca26b150-6203-4171-81ea-9069260f394f\">\n",
              "    <div class=\"colab-df-container\">\n",
              "      <div>\n",
              "<style scoped>\n",
              "    .dataframe tbody tr th:only-of-type {\n",
              "        vertical-align: middle;\n",
              "    }\n",
              "\n",
              "    .dataframe tbody tr th {\n",
              "        vertical-align: top;\n",
              "    }\n",
              "\n",
              "    .dataframe thead th {\n",
              "        text-align: right;\n",
              "    }\n",
              "</style>\n",
              "<table border=\"1\" class=\"dataframe\">\n",
              "  <thead>\n",
              "    <tr style=\"text-align: right;\">\n",
              "      <th></th>\n",
              "      <th>id</th>\n",
              "      <th>price_date</th>\n",
              "      <th>price_off_peak_var</th>\n",
              "      <th>price_peak_var</th>\n",
              "      <th>price_mid_peak_var</th>\n",
              "      <th>price_off_peak_fix</th>\n",
              "      <th>price_peak_fix</th>\n",
              "      <th>price_mid_peak_fix</th>\n",
              "    </tr>\n",
              "  </thead>\n",
              "  <tbody>\n",
              "    <tr>\n",
              "      <th>0</th>\n",
              "      <td>038af19179925da21a25619c5a24b745</td>\n",
              "      <td>2015-01-01</td>\n",
              "      <td>0.151367</td>\n",
              "      <td>0.0</td>\n",
              "      <td>0.0</td>\n",
              "      <td>44.266931</td>\n",
              "      <td>0.0</td>\n",
              "      <td>0.0</td>\n",
              "    </tr>\n",
              "    <tr>\n",
              "      <th>1</th>\n",
              "      <td>038af19179925da21a25619c5a24b745</td>\n",
              "      <td>2015-02-01</td>\n",
              "      <td>0.151367</td>\n",
              "      <td>0.0</td>\n",
              "      <td>0.0</td>\n",
              "      <td>44.266931</td>\n",
              "      <td>0.0</td>\n",
              "      <td>0.0</td>\n",
              "    </tr>\n",
              "    <tr>\n",
              "      <th>2</th>\n",
              "      <td>038af19179925da21a25619c5a24b745</td>\n",
              "      <td>2015-03-01</td>\n",
              "      <td>0.151367</td>\n",
              "      <td>0.0</td>\n",
              "      <td>0.0</td>\n",
              "      <td>44.266931</td>\n",
              "      <td>0.0</td>\n",
              "      <td>0.0</td>\n",
              "    </tr>\n",
              "  </tbody>\n",
              "</table>\n",
              "</div>\n",
              "      <button class=\"colab-df-convert\" onclick=\"convertToInteractive('df-ca26b150-6203-4171-81ea-9069260f394f')\"\n",
              "              title=\"Convert this dataframe to an interactive table.\"\n",
              "              style=\"display:none;\">\n",
              "\n",
              "  <svg xmlns=\"http://www.w3.org/2000/svg\" height=\"24px\"viewBox=\"0 0 24 24\"\n",
              "       width=\"24px\">\n",
              "    <path d=\"M0 0h24v24H0V0z\" fill=\"none\"/>\n",
              "    <path d=\"M18.56 5.44l.94 2.06.94-2.06 2.06-.94-2.06-.94-.94-2.06-.94 2.06-2.06.94zm-11 1L8.5 8.5l.94-2.06 2.06-.94-2.06-.94L8.5 2.5l-.94 2.06-2.06.94zm10 10l.94 2.06.94-2.06 2.06-.94-2.06-.94-.94-2.06-.94 2.06-2.06.94z\"/><path d=\"M17.41 7.96l-1.37-1.37c-.4-.4-.92-.59-1.43-.59-.52 0-1.04.2-1.43.59L10.3 9.45l-7.72 7.72c-.78.78-.78 2.05 0 2.83L4 21.41c.39.39.9.59 1.41.59.51 0 1.02-.2 1.41-.59l7.78-7.78 2.81-2.81c.8-.78.8-2.07 0-2.86zM5.41 20L4 18.59l7.72-7.72 1.47 1.35L5.41 20z\"/>\n",
              "  </svg>\n",
              "      </button>\n",
              "\n",
              "\n",
              "\n",
              "    <div id=\"df-d1628fd5-87c2-4ced-a99c-c78e8df0ef11\">\n",
              "      <button class=\"colab-df-quickchart\" onclick=\"quickchart('df-d1628fd5-87c2-4ced-a99c-c78e8df0ef11')\"\n",
              "              title=\"Suggest charts.\"\n",
              "              style=\"display:none;\">\n",
              "\n",
              "<svg xmlns=\"http://www.w3.org/2000/svg\" height=\"24px\"viewBox=\"0 0 24 24\"\n",
              "     width=\"24px\">\n",
              "    <g>\n",
              "        <path d=\"M19 3H5c-1.1 0-2 .9-2 2v14c0 1.1.9 2 2 2h14c1.1 0 2-.9 2-2V5c0-1.1-.9-2-2-2zM9 17H7v-7h2v7zm4 0h-2V7h2v10zm4 0h-2v-4h2v4z\"/>\n",
              "    </g>\n",
              "</svg>\n",
              "      </button>\n",
              "    </div>\n",
              "\n",
              "<style>\n",
              "  .colab-df-quickchart {\n",
              "    background-color: #E8F0FE;\n",
              "    border: none;\n",
              "    border-radius: 50%;\n",
              "    cursor: pointer;\n",
              "    display: none;\n",
              "    fill: #1967D2;\n",
              "    height: 32px;\n",
              "    padding: 0 0 0 0;\n",
              "    width: 32px;\n",
              "  }\n",
              "\n",
              "  .colab-df-quickchart:hover {\n",
              "    background-color: #E2EBFA;\n",
              "    box-shadow: 0px 1px 2px rgba(60, 64, 67, 0.3), 0px 1px 3px 1px rgba(60, 64, 67, 0.15);\n",
              "    fill: #174EA6;\n",
              "  }\n",
              "\n",
              "  [theme=dark] .colab-df-quickchart {\n",
              "    background-color: #3B4455;\n",
              "    fill: #D2E3FC;\n",
              "  }\n",
              "\n",
              "  [theme=dark] .colab-df-quickchart:hover {\n",
              "    background-color: #434B5C;\n",
              "    box-shadow: 0px 1px 3px 1px rgba(0, 0, 0, 0.15);\n",
              "    filter: drop-shadow(0px 1px 2px rgba(0, 0, 0, 0.3));\n",
              "    fill: #FFFFFF;\n",
              "  }\n",
              "</style>\n",
              "\n",
              "    <script>\n",
              "      async function quickchart(key) {\n",
              "        const containerElement = document.querySelector('#' + key);\n",
              "        const charts = await google.colab.kernel.invokeFunction(\n",
              "            'suggestCharts', [key], {});\n",
              "      }\n",
              "    </script>\n",
              "\n",
              "      <script>\n",
              "\n",
              "function displayQuickchartButton(domScope) {\n",
              "  let quickchartButtonEl =\n",
              "    domScope.querySelector('#df-d1628fd5-87c2-4ced-a99c-c78e8df0ef11 button.colab-df-quickchart');\n",
              "  quickchartButtonEl.style.display =\n",
              "    google.colab.kernel.accessAllowed ? 'block' : 'none';\n",
              "}\n",
              "\n",
              "        displayQuickchartButton(document);\n",
              "      </script>\n",
              "      <style>\n",
              "    .colab-df-container {\n",
              "      display:flex;\n",
              "      flex-wrap:wrap;\n",
              "      gap: 12px;\n",
              "    }\n",
              "\n",
              "    .colab-df-convert {\n",
              "      background-color: #E8F0FE;\n",
              "      border: none;\n",
              "      border-radius: 50%;\n",
              "      cursor: pointer;\n",
              "      display: none;\n",
              "      fill: #1967D2;\n",
              "      height: 32px;\n",
              "      padding: 0 0 0 0;\n",
              "      width: 32px;\n",
              "    }\n",
              "\n",
              "    .colab-df-convert:hover {\n",
              "      background-color: #E2EBFA;\n",
              "      box-shadow: 0px 1px 2px rgba(60, 64, 67, 0.3), 0px 1px 3px 1px rgba(60, 64, 67, 0.15);\n",
              "      fill: #174EA6;\n",
              "    }\n",
              "\n",
              "    [theme=dark] .colab-df-convert {\n",
              "      background-color: #3B4455;\n",
              "      fill: #D2E3FC;\n",
              "    }\n",
              "\n",
              "    [theme=dark] .colab-df-convert:hover {\n",
              "      background-color: #434B5C;\n",
              "      box-shadow: 0px 1px 3px 1px rgba(0, 0, 0, 0.15);\n",
              "      filter: drop-shadow(0px 1px 2px rgba(0, 0, 0, 0.3));\n",
              "      fill: #FFFFFF;\n",
              "    }\n",
              "  </style>\n",
              "\n",
              "      <script>\n",
              "        const buttonEl =\n",
              "          document.querySelector('#df-ca26b150-6203-4171-81ea-9069260f394f button.colab-df-convert');\n",
              "        buttonEl.style.display =\n",
              "          google.colab.kernel.accessAllowed ? 'block' : 'none';\n",
              "\n",
              "        async function convertToInteractive(key) {\n",
              "          const element = document.querySelector('#df-ca26b150-6203-4171-81ea-9069260f394f');\n",
              "          const dataTable =\n",
              "            await google.colab.kernel.invokeFunction('convertToInteractive',\n",
              "                                                     [key], {});\n",
              "          if (!dataTable) return;\n",
              "\n",
              "          const docLinkHtml = 'Like what you see? Visit the ' +\n",
              "            '<a target=\"_blank\" href=https://colab.research.google.com/notebooks/data_table.ipynb>data table notebook</a>'\n",
              "            + ' to learn more about interactive tables.';\n",
              "          element.innerHTML = '';\n",
              "          dataTable['output_type'] = 'display_data';\n",
              "          await google.colab.output.renderOutput(dataTable, element);\n",
              "          const docLink = document.createElement('div');\n",
              "          docLink.innerHTML = docLinkHtml;\n",
              "          element.appendChild(docLink);\n",
              "        }\n",
              "      </script>\n",
              "    </div>\n",
              "  </div>\n"
            ]
          },
          "metadata": {},
          "execution_count": 22
        }
      ],
      "source": [
        "price_df.head(3)"
      ]
    },
    {
      "cell_type": "markdown",
      "id": "e27e3f0d-1b6b-49fa-a48c-8d39ff77adf1",
      "metadata": {
        "id": "e27e3f0d-1b6b-49fa-a48c-8d39ff77adf1"
      },
      "source": [
        "With the price data, it is purely numeric data but we can see a lot of zeros"
      ]
    },
    {
      "cell_type": "markdown",
      "id": "966c3948-41c0-4183-9118-dd665c58a93c",
      "metadata": {
        "id": "966c3948-41c0-4183-9118-dd665c58a93c"
      },
      "source": [
        "---\n",
        "\n",
        "## 3. Descriptive statistics of data\n",
        "\n",
        "### Data types\n",
        "\n",
        "It is useful to first understand the data that you're dealing with along with the data types of each column. The data types may dictate how you transform and engineer features."
      ]
    },
    {
      "cell_type": "code",
      "execution_count": 23,
      "id": "2dc75b07-c286-4852-bc33-e501782e67d9",
      "metadata": {
        "colab": {
          "base_uri": "https://localhost:8080/"
        },
        "id": "2dc75b07-c286-4852-bc33-e501782e67d9",
        "outputId": "6ccbb384-624c-494e-bac4-59ae3612419c"
      },
      "outputs": [
        {
          "output_type": "stream",
          "name": "stdout",
          "text": [
            "<class 'pandas.core.frame.DataFrame'>\n",
            "RangeIndex: 14606 entries, 0 to 14605\n",
            "Data columns (total 26 columns):\n",
            " #   Column                          Non-Null Count  Dtype  \n",
            "---  ------                          --------------  -----  \n",
            " 0   id                              14606 non-null  object \n",
            " 1   channel_sales                   14606 non-null  object \n",
            " 2   cons_12m                        14606 non-null  int64  \n",
            " 3   cons_gas_12m                    14606 non-null  int64  \n",
            " 4   cons_last_month                 14606 non-null  int64  \n",
            " 5   date_activ                      14606 non-null  object \n",
            " 6   date_end                        14606 non-null  object \n",
            " 7   date_modif_prod                 14606 non-null  object \n",
            " 8   date_renewal                    14606 non-null  object \n",
            " 9   forecast_cons_12m               14606 non-null  float64\n",
            " 10  forecast_cons_year              14606 non-null  int64  \n",
            " 11  forecast_discount_energy        14606 non-null  float64\n",
            " 12  forecast_meter_rent_12m         14606 non-null  float64\n",
            " 13  forecast_price_energy_off_peak  14606 non-null  float64\n",
            " 14  forecast_price_energy_peak      14606 non-null  float64\n",
            " 15  forecast_price_pow_off_peak     14606 non-null  float64\n",
            " 16  has_gas                         14606 non-null  object \n",
            " 17  imp_cons                        14606 non-null  float64\n",
            " 18  margin_gross_pow_ele            14606 non-null  float64\n",
            " 19  margin_net_pow_ele              14606 non-null  float64\n",
            " 20  nb_prod_act                     14606 non-null  int64  \n",
            " 21  net_margin                      14606 non-null  float64\n",
            " 22  num_years_antig                 14606 non-null  int64  \n",
            " 23  origin_up                       14606 non-null  object \n",
            " 24  pow_max                         14606 non-null  float64\n",
            " 25  churn                           14606 non-null  int64  \n",
            "dtypes: float64(11), int64(7), object(8)\n",
            "memory usage: 2.9+ MB\n"
          ]
        }
      ],
      "source": [
        "client_df.info()"
      ]
    },
    {
      "cell_type": "code",
      "execution_count": 24,
      "id": "b67f2628-351a-48ee-b8ba-88c54042af88",
      "metadata": {
        "colab": {
          "base_uri": "https://localhost:8080/"
        },
        "id": "b67f2628-351a-48ee-b8ba-88c54042af88",
        "outputId": "1964df1a-06b1-4fcc-f667-d88c666491c5"
      },
      "outputs": [
        {
          "output_type": "stream",
          "name": "stdout",
          "text": [
            "<class 'pandas.core.frame.DataFrame'>\n",
            "RangeIndex: 110556 entries, 0 to 110555\n",
            "Data columns (total 8 columns):\n",
            " #   Column              Non-Null Count   Dtype  \n",
            "---  ------              --------------   -----  \n",
            " 0   id                  110556 non-null  object \n",
            " 1   price_date          110555 non-null  object \n",
            " 2   price_off_peak_var  110555 non-null  float64\n",
            " 3   price_peak_var      110555 non-null  float64\n",
            " 4   price_mid_peak_var  110555 non-null  float64\n",
            " 5   price_off_peak_fix  110555 non-null  float64\n",
            " 6   price_peak_fix      110555 non-null  float64\n",
            " 7   price_mid_peak_fix  110555 non-null  float64\n",
            "dtypes: float64(6), object(2)\n",
            "memory usage: 6.7+ MB\n"
          ]
        }
      ],
      "source": [
        "price_df.info()"
      ]
    },
    {
      "cell_type": "markdown",
      "id": "f7d523f6-1a61-4645-814a-b78fb8a6a540",
      "metadata": {
        "id": "f7d523f6-1a61-4645-814a-b78fb8a6a540"
      },
      "source": [
        "You can see that all of the `datetime` related columns are not currently in datetime format. We will need to convert these later."
      ]
    },
    {
      "cell_type": "markdown",
      "id": "3d7e80c5-ef07-47a7-908a-a081b3ebd09e",
      "metadata": {
        "id": "3d7e80c5-ef07-47a7-908a-a081b3ebd09e"
      },
      "source": [
        "### Statistics\n",
        "\n",
        "Now let's look at some statistics about the datasets"
      ]
    },
    {
      "cell_type": "code",
      "execution_count": 25,
      "id": "60f3010c-ecaf-4b8a-bb87-93bb54cc0c7e",
      "metadata": {
        "colab": {
          "base_uri": "https://localhost:8080/",
          "height": 364
        },
        "id": "60f3010c-ecaf-4b8a-bb87-93bb54cc0c7e",
        "outputId": "ba331301-e21e-4699-9e83-9e69487744e8"
      },
      "outputs": [
        {
          "output_type": "execute_result",
          "data": {
            "text/plain": [
              "           cons_12m  cons_gas_12m  cons_last_month  forecast_cons_12m  \\\n",
              "count  1.460600e+04  1.460600e+04     14606.000000       14606.000000   \n",
              "mean   1.592203e+05  2.809238e+04     16090.269752        1868.614880   \n",
              "std    5.734653e+05  1.629731e+05     64364.196422        2387.571531   \n",
              "min    0.000000e+00  0.000000e+00         0.000000           0.000000   \n",
              "25%    5.674750e+03  0.000000e+00         0.000000         494.995000   \n",
              "50%    1.411550e+04  0.000000e+00       792.500000        1112.875000   \n",
              "75%    4.076375e+04  0.000000e+00      3383.000000        2401.790000   \n",
              "max    6.207104e+06  4.154590e+06    771203.000000       82902.830000   \n",
              "\n",
              "       forecast_cons_year  forecast_discount_energy  forecast_meter_rent_12m  \\\n",
              "count        14606.000000              14606.000000             14606.000000   \n",
              "mean          1399.762906                  0.966726                63.086871   \n",
              "std           3247.786255                  5.108289                66.165783   \n",
              "min              0.000000                  0.000000                 0.000000   \n",
              "25%              0.000000                  0.000000                16.180000   \n",
              "50%            314.000000                  0.000000                18.795000   \n",
              "75%           1745.750000                  0.000000               131.030000   \n",
              "max         175375.000000                 30.000000               599.310000   \n",
              "\n",
              "       forecast_price_energy_off_peak  forecast_price_energy_peak  \\\n",
              "count                    14606.000000                14606.000000   \n",
              "mean                         0.137283                    0.050491   \n",
              "std                          0.024623                    0.049037   \n",
              "min                          0.000000                    0.000000   \n",
              "25%                          0.116340                    0.000000   \n",
              "50%                          0.143166                    0.084138   \n",
              "75%                          0.146348                    0.098837   \n",
              "max                          0.273963                    0.195975   \n",
              "\n",
              "       forecast_price_pow_off_peak      imp_cons  margin_gross_pow_ele  \\\n",
              "count                 14606.000000  14606.000000          14606.000000   \n",
              "mean                     43.130056    152.786896             24.565121   \n",
              "std                       4.485988    341.369366             20.231172   \n",
              "min                       0.000000      0.000000              0.000000   \n",
              "25%                      40.606701      0.000000             14.280000   \n",
              "50%                      44.311378     37.395000             21.640000   \n",
              "75%                      44.311378    193.980000             29.880000   \n",
              "max                      59.266378  15042.790000            374.640000   \n",
              "\n",
              "       margin_net_pow_ele   nb_prod_act    net_margin  num_years_antig  \\\n",
              "count        14606.000000  14606.000000  14606.000000     14606.000000   \n",
              "mean            24.562517      1.292346    189.264522         4.997809   \n",
              "std             20.230280      0.709774    311.798130         1.611749   \n",
              "min              0.000000      1.000000      0.000000         1.000000   \n",
              "25%             14.280000      1.000000     50.712500         4.000000   \n",
              "50%             21.640000      1.000000    112.530000         5.000000   \n",
              "75%             29.880000      1.000000    243.097500         6.000000   \n",
              "max            374.640000     32.000000  24570.650000        13.000000   \n",
              "\n",
              "            pow_max         churn  \n",
              "count  14606.000000  14606.000000  \n",
              "mean      18.135136      0.097152  \n",
              "std       13.534743      0.296175  \n",
              "min        3.300000      0.000000  \n",
              "25%       12.500000      0.000000  \n",
              "50%       13.856000      0.000000  \n",
              "75%       19.172500      0.000000  \n",
              "max      320.000000      1.000000  "
            ],
            "text/html": [
              "\n",
              "\n",
              "  <div id=\"df-fe3465e8-f43b-4aee-9595-e86772ac9c61\">\n",
              "    <div class=\"colab-df-container\">\n",
              "      <div>\n",
              "<style scoped>\n",
              "    .dataframe tbody tr th:only-of-type {\n",
              "        vertical-align: middle;\n",
              "    }\n",
              "\n",
              "    .dataframe tbody tr th {\n",
              "        vertical-align: top;\n",
              "    }\n",
              "\n",
              "    .dataframe thead th {\n",
              "        text-align: right;\n",
              "    }\n",
              "</style>\n",
              "<table border=\"1\" class=\"dataframe\">\n",
              "  <thead>\n",
              "    <tr style=\"text-align: right;\">\n",
              "      <th></th>\n",
              "      <th>cons_12m</th>\n",
              "      <th>cons_gas_12m</th>\n",
              "      <th>cons_last_month</th>\n",
              "      <th>forecast_cons_12m</th>\n",
              "      <th>forecast_cons_year</th>\n",
              "      <th>forecast_discount_energy</th>\n",
              "      <th>forecast_meter_rent_12m</th>\n",
              "      <th>forecast_price_energy_off_peak</th>\n",
              "      <th>forecast_price_energy_peak</th>\n",
              "      <th>forecast_price_pow_off_peak</th>\n",
              "      <th>imp_cons</th>\n",
              "      <th>margin_gross_pow_ele</th>\n",
              "      <th>margin_net_pow_ele</th>\n",
              "      <th>nb_prod_act</th>\n",
              "      <th>net_margin</th>\n",
              "      <th>num_years_antig</th>\n",
              "      <th>pow_max</th>\n",
              "      <th>churn</th>\n",
              "    </tr>\n",
              "  </thead>\n",
              "  <tbody>\n",
              "    <tr>\n",
              "      <th>count</th>\n",
              "      <td>1.460600e+04</td>\n",
              "      <td>1.460600e+04</td>\n",
              "      <td>14606.000000</td>\n",
              "      <td>14606.000000</td>\n",
              "      <td>14606.000000</td>\n",
              "      <td>14606.000000</td>\n",
              "      <td>14606.000000</td>\n",
              "      <td>14606.000000</td>\n",
              "      <td>14606.000000</td>\n",
              "      <td>14606.000000</td>\n",
              "      <td>14606.000000</td>\n",
              "      <td>14606.000000</td>\n",
              "      <td>14606.000000</td>\n",
              "      <td>14606.000000</td>\n",
              "      <td>14606.000000</td>\n",
              "      <td>14606.000000</td>\n",
              "      <td>14606.000000</td>\n",
              "      <td>14606.000000</td>\n",
              "    </tr>\n",
              "    <tr>\n",
              "      <th>mean</th>\n",
              "      <td>1.592203e+05</td>\n",
              "      <td>2.809238e+04</td>\n",
              "      <td>16090.269752</td>\n",
              "      <td>1868.614880</td>\n",
              "      <td>1399.762906</td>\n",
              "      <td>0.966726</td>\n",
              "      <td>63.086871</td>\n",
              "      <td>0.137283</td>\n",
              "      <td>0.050491</td>\n",
              "      <td>43.130056</td>\n",
              "      <td>152.786896</td>\n",
              "      <td>24.565121</td>\n",
              "      <td>24.562517</td>\n",
              "      <td>1.292346</td>\n",
              "      <td>189.264522</td>\n",
              "      <td>4.997809</td>\n",
              "      <td>18.135136</td>\n",
              "      <td>0.097152</td>\n",
              "    </tr>\n",
              "    <tr>\n",
              "      <th>std</th>\n",
              "      <td>5.734653e+05</td>\n",
              "      <td>1.629731e+05</td>\n",
              "      <td>64364.196422</td>\n",
              "      <td>2387.571531</td>\n",
              "      <td>3247.786255</td>\n",
              "      <td>5.108289</td>\n",
              "      <td>66.165783</td>\n",
              "      <td>0.024623</td>\n",
              "      <td>0.049037</td>\n",
              "      <td>4.485988</td>\n",
              "      <td>341.369366</td>\n",
              "      <td>20.231172</td>\n",
              "      <td>20.230280</td>\n",
              "      <td>0.709774</td>\n",
              "      <td>311.798130</td>\n",
              "      <td>1.611749</td>\n",
              "      <td>13.534743</td>\n",
              "      <td>0.296175</td>\n",
              "    </tr>\n",
              "    <tr>\n",
              "      <th>min</th>\n",
              "      <td>0.000000e+00</td>\n",
              "      <td>0.000000e+00</td>\n",
              "      <td>0.000000</td>\n",
              "      <td>0.000000</td>\n",
              "      <td>0.000000</td>\n",
              "      <td>0.000000</td>\n",
              "      <td>0.000000</td>\n",
              "      <td>0.000000</td>\n",
              "      <td>0.000000</td>\n",
              "      <td>0.000000</td>\n",
              "      <td>0.000000</td>\n",
              "      <td>0.000000</td>\n",
              "      <td>0.000000</td>\n",
              "      <td>1.000000</td>\n",
              "      <td>0.000000</td>\n",
              "      <td>1.000000</td>\n",
              "      <td>3.300000</td>\n",
              "      <td>0.000000</td>\n",
              "    </tr>\n",
              "    <tr>\n",
              "      <th>25%</th>\n",
              "      <td>5.674750e+03</td>\n",
              "      <td>0.000000e+00</td>\n",
              "      <td>0.000000</td>\n",
              "      <td>494.995000</td>\n",
              "      <td>0.000000</td>\n",
              "      <td>0.000000</td>\n",
              "      <td>16.180000</td>\n",
              "      <td>0.116340</td>\n",
              "      <td>0.000000</td>\n",
              "      <td>40.606701</td>\n",
              "      <td>0.000000</td>\n",
              "      <td>14.280000</td>\n",
              "      <td>14.280000</td>\n",
              "      <td>1.000000</td>\n",
              "      <td>50.712500</td>\n",
              "      <td>4.000000</td>\n",
              "      <td>12.500000</td>\n",
              "      <td>0.000000</td>\n",
              "    </tr>\n",
              "    <tr>\n",
              "      <th>50%</th>\n",
              "      <td>1.411550e+04</td>\n",
              "      <td>0.000000e+00</td>\n",
              "      <td>792.500000</td>\n",
              "      <td>1112.875000</td>\n",
              "      <td>314.000000</td>\n",
              "      <td>0.000000</td>\n",
              "      <td>18.795000</td>\n",
              "      <td>0.143166</td>\n",
              "      <td>0.084138</td>\n",
              "      <td>44.311378</td>\n",
              "      <td>37.395000</td>\n",
              "      <td>21.640000</td>\n",
              "      <td>21.640000</td>\n",
              "      <td>1.000000</td>\n",
              "      <td>112.530000</td>\n",
              "      <td>5.000000</td>\n",
              "      <td>13.856000</td>\n",
              "      <td>0.000000</td>\n",
              "    </tr>\n",
              "    <tr>\n",
              "      <th>75%</th>\n",
              "      <td>4.076375e+04</td>\n",
              "      <td>0.000000e+00</td>\n",
              "      <td>3383.000000</td>\n",
              "      <td>2401.790000</td>\n",
              "      <td>1745.750000</td>\n",
              "      <td>0.000000</td>\n",
              "      <td>131.030000</td>\n",
              "      <td>0.146348</td>\n",
              "      <td>0.098837</td>\n",
              "      <td>44.311378</td>\n",
              "      <td>193.980000</td>\n",
              "      <td>29.880000</td>\n",
              "      <td>29.880000</td>\n",
              "      <td>1.000000</td>\n",
              "      <td>243.097500</td>\n",
              "      <td>6.000000</td>\n",
              "      <td>19.172500</td>\n",
              "      <td>0.000000</td>\n",
              "    </tr>\n",
              "    <tr>\n",
              "      <th>max</th>\n",
              "      <td>6.207104e+06</td>\n",
              "      <td>4.154590e+06</td>\n",
              "      <td>771203.000000</td>\n",
              "      <td>82902.830000</td>\n",
              "      <td>175375.000000</td>\n",
              "      <td>30.000000</td>\n",
              "      <td>599.310000</td>\n",
              "      <td>0.273963</td>\n",
              "      <td>0.195975</td>\n",
              "      <td>59.266378</td>\n",
              "      <td>15042.790000</td>\n",
              "      <td>374.640000</td>\n",
              "      <td>374.640000</td>\n",
              "      <td>32.000000</td>\n",
              "      <td>24570.650000</td>\n",
              "      <td>13.000000</td>\n",
              "      <td>320.000000</td>\n",
              "      <td>1.000000</td>\n",
              "    </tr>\n",
              "  </tbody>\n",
              "</table>\n",
              "</div>\n",
              "      <button class=\"colab-df-convert\" onclick=\"convertToInteractive('df-fe3465e8-f43b-4aee-9595-e86772ac9c61')\"\n",
              "              title=\"Convert this dataframe to an interactive table.\"\n",
              "              style=\"display:none;\">\n",
              "\n",
              "  <svg xmlns=\"http://www.w3.org/2000/svg\" height=\"24px\"viewBox=\"0 0 24 24\"\n",
              "       width=\"24px\">\n",
              "    <path d=\"M0 0h24v24H0V0z\" fill=\"none\"/>\n",
              "    <path d=\"M18.56 5.44l.94 2.06.94-2.06 2.06-.94-2.06-.94-.94-2.06-.94 2.06-2.06.94zm-11 1L8.5 8.5l.94-2.06 2.06-.94-2.06-.94L8.5 2.5l-.94 2.06-2.06.94zm10 10l.94 2.06.94-2.06 2.06-.94-2.06-.94-.94-2.06-.94 2.06-2.06.94z\"/><path d=\"M17.41 7.96l-1.37-1.37c-.4-.4-.92-.59-1.43-.59-.52 0-1.04.2-1.43.59L10.3 9.45l-7.72 7.72c-.78.78-.78 2.05 0 2.83L4 21.41c.39.39.9.59 1.41.59.51 0 1.02-.2 1.41-.59l7.78-7.78 2.81-2.81c.8-.78.8-2.07 0-2.86zM5.41 20L4 18.59l7.72-7.72 1.47 1.35L5.41 20z\"/>\n",
              "  </svg>\n",
              "      </button>\n",
              "\n",
              "\n",
              "\n",
              "    <div id=\"df-8fc90551-9a1f-476a-8ecf-c2007f1f016d\">\n",
              "      <button class=\"colab-df-quickchart\" onclick=\"quickchart('df-8fc90551-9a1f-476a-8ecf-c2007f1f016d')\"\n",
              "              title=\"Suggest charts.\"\n",
              "              style=\"display:none;\">\n",
              "\n",
              "<svg xmlns=\"http://www.w3.org/2000/svg\" height=\"24px\"viewBox=\"0 0 24 24\"\n",
              "     width=\"24px\">\n",
              "    <g>\n",
              "        <path d=\"M19 3H5c-1.1 0-2 .9-2 2v14c0 1.1.9 2 2 2h14c1.1 0 2-.9 2-2V5c0-1.1-.9-2-2-2zM9 17H7v-7h2v7zm4 0h-2V7h2v10zm4 0h-2v-4h2v4z\"/>\n",
              "    </g>\n",
              "</svg>\n",
              "      </button>\n",
              "    </div>\n",
              "\n",
              "<style>\n",
              "  .colab-df-quickchart {\n",
              "    background-color: #E8F0FE;\n",
              "    border: none;\n",
              "    border-radius: 50%;\n",
              "    cursor: pointer;\n",
              "    display: none;\n",
              "    fill: #1967D2;\n",
              "    height: 32px;\n",
              "    padding: 0 0 0 0;\n",
              "    width: 32px;\n",
              "  }\n",
              "\n",
              "  .colab-df-quickchart:hover {\n",
              "    background-color: #E2EBFA;\n",
              "    box-shadow: 0px 1px 2px rgba(60, 64, 67, 0.3), 0px 1px 3px 1px rgba(60, 64, 67, 0.15);\n",
              "    fill: #174EA6;\n",
              "  }\n",
              "\n",
              "  [theme=dark] .colab-df-quickchart {\n",
              "    background-color: #3B4455;\n",
              "    fill: #D2E3FC;\n",
              "  }\n",
              "\n",
              "  [theme=dark] .colab-df-quickchart:hover {\n",
              "    background-color: #434B5C;\n",
              "    box-shadow: 0px 1px 3px 1px rgba(0, 0, 0, 0.15);\n",
              "    filter: drop-shadow(0px 1px 2px rgba(0, 0, 0, 0.3));\n",
              "    fill: #FFFFFF;\n",
              "  }\n",
              "</style>\n",
              "\n",
              "    <script>\n",
              "      async function quickchart(key) {\n",
              "        const containerElement = document.querySelector('#' + key);\n",
              "        const charts = await google.colab.kernel.invokeFunction(\n",
              "            'suggestCharts', [key], {});\n",
              "      }\n",
              "    </script>\n",
              "\n",
              "      <script>\n",
              "\n",
              "function displayQuickchartButton(domScope) {\n",
              "  let quickchartButtonEl =\n",
              "    domScope.querySelector('#df-8fc90551-9a1f-476a-8ecf-c2007f1f016d button.colab-df-quickchart');\n",
              "  quickchartButtonEl.style.display =\n",
              "    google.colab.kernel.accessAllowed ? 'block' : 'none';\n",
              "}\n",
              "\n",
              "        displayQuickchartButton(document);\n",
              "      </script>\n",
              "      <style>\n",
              "    .colab-df-container {\n",
              "      display:flex;\n",
              "      flex-wrap:wrap;\n",
              "      gap: 12px;\n",
              "    }\n",
              "\n",
              "    .colab-df-convert {\n",
              "      background-color: #E8F0FE;\n",
              "      border: none;\n",
              "      border-radius: 50%;\n",
              "      cursor: pointer;\n",
              "      display: none;\n",
              "      fill: #1967D2;\n",
              "      height: 32px;\n",
              "      padding: 0 0 0 0;\n",
              "      width: 32px;\n",
              "    }\n",
              "\n",
              "    .colab-df-convert:hover {\n",
              "      background-color: #E2EBFA;\n",
              "      box-shadow: 0px 1px 2px rgba(60, 64, 67, 0.3), 0px 1px 3px 1px rgba(60, 64, 67, 0.15);\n",
              "      fill: #174EA6;\n",
              "    }\n",
              "\n",
              "    [theme=dark] .colab-df-convert {\n",
              "      background-color: #3B4455;\n",
              "      fill: #D2E3FC;\n",
              "    }\n",
              "\n",
              "    [theme=dark] .colab-df-convert:hover {\n",
              "      background-color: #434B5C;\n",
              "      box-shadow: 0px 1px 3px 1px rgba(0, 0, 0, 0.15);\n",
              "      filter: drop-shadow(0px 1px 2px rgba(0, 0, 0, 0.3));\n",
              "      fill: #FFFFFF;\n",
              "    }\n",
              "  </style>\n",
              "\n",
              "      <script>\n",
              "        const buttonEl =\n",
              "          document.querySelector('#df-fe3465e8-f43b-4aee-9595-e86772ac9c61 button.colab-df-convert');\n",
              "        buttonEl.style.display =\n",
              "          google.colab.kernel.accessAllowed ? 'block' : 'none';\n",
              "\n",
              "        async function convertToInteractive(key) {\n",
              "          const element = document.querySelector('#df-fe3465e8-f43b-4aee-9595-e86772ac9c61');\n",
              "          const dataTable =\n",
              "            await google.colab.kernel.invokeFunction('convertToInteractive',\n",
              "                                                     [key], {});\n",
              "          if (!dataTable) return;\n",
              "\n",
              "          const docLinkHtml = 'Like what you see? Visit the ' +\n",
              "            '<a target=\"_blank\" href=https://colab.research.google.com/notebooks/data_table.ipynb>data table notebook</a>'\n",
              "            + ' to learn more about interactive tables.';\n",
              "          element.innerHTML = '';\n",
              "          dataTable['output_type'] = 'display_data';\n",
              "          await google.colab.output.renderOutput(dataTable, element);\n",
              "          const docLink = document.createElement('div');\n",
              "          docLink.innerHTML = docLinkHtml;\n",
              "          element.appendChild(docLink);\n",
              "        }\n",
              "      </script>\n",
              "    </div>\n",
              "  </div>\n"
            ]
          },
          "metadata": {},
          "execution_count": 25
        }
      ],
      "source": [
        "client_df.describe()"
      ]
    },
    {
      "cell_type": "markdown",
      "id": "bdf88b77-f1e3-4e7c-8b87-310d62e70a94",
      "metadata": {
        "id": "bdf88b77-f1e3-4e7c-8b87-310d62e70a94"
      },
      "source": [
        "The describe method gives us a lot of information about the client data. The key point to take away from this is that we have highly skewed data, as exhibited by the percentile values."
      ]
    },
    {
      "cell_type": "code",
      "execution_count": 26,
      "id": "f8b442e6-e186-42f9-b3c5-c5c15cd8c82a",
      "metadata": {
        "colab": {
          "base_uri": "https://localhost:8080/",
          "height": 300
        },
        "id": "f8b442e6-e186-42f9-b3c5-c5c15cd8c82a",
        "outputId": "9bcea487-493c-459f-bc3c-97df0904b61c"
      },
      "outputs": [
        {
          "output_type": "execute_result",
          "data": {
            "text/plain": [
              "       price_off_peak_var  price_peak_var  price_mid_peak_var  \\\n",
              "count       110555.000000   110555.000000       110555.000000   \n",
              "mean             0.141111        0.054230            0.030402   \n",
              "std              0.024736        0.049966            0.036322   \n",
              "min              0.000000        0.000000            0.000000   \n",
              "25%              0.125976        0.000000            0.000000   \n",
              "50%              0.146033        0.085390            0.000000   \n",
              "75%              0.151635        0.101673            0.072558   \n",
              "max              0.280700        0.181480            0.114102   \n",
              "\n",
              "       price_off_peak_fix  price_peak_fix  price_mid_peak_fix  \n",
              "count       110555.000000   110555.000000       110555.000000  \n",
              "mean            43.364186       10.586998            6.382218  \n",
              "std              5.343227       12.841245            7.766258  \n",
              "min              0.000000        0.000000            0.000000  \n",
              "25%             40.728885        0.000000            0.000000  \n",
              "50%             44.266930        0.000000            0.000000  \n",
              "75%             44.444710       24.339581           16.226389  \n",
              "max             59.444710       36.490692           17.458221  "
            ],
            "text/html": [
              "\n",
              "\n",
              "  <div id=\"df-8bf8956d-5ea1-4118-bb17-a5aa52384f6b\">\n",
              "    <div class=\"colab-df-container\">\n",
              "      <div>\n",
              "<style scoped>\n",
              "    .dataframe tbody tr th:only-of-type {\n",
              "        vertical-align: middle;\n",
              "    }\n",
              "\n",
              "    .dataframe tbody tr th {\n",
              "        vertical-align: top;\n",
              "    }\n",
              "\n",
              "    .dataframe thead th {\n",
              "        text-align: right;\n",
              "    }\n",
              "</style>\n",
              "<table border=\"1\" class=\"dataframe\">\n",
              "  <thead>\n",
              "    <tr style=\"text-align: right;\">\n",
              "      <th></th>\n",
              "      <th>price_off_peak_var</th>\n",
              "      <th>price_peak_var</th>\n",
              "      <th>price_mid_peak_var</th>\n",
              "      <th>price_off_peak_fix</th>\n",
              "      <th>price_peak_fix</th>\n",
              "      <th>price_mid_peak_fix</th>\n",
              "    </tr>\n",
              "  </thead>\n",
              "  <tbody>\n",
              "    <tr>\n",
              "      <th>count</th>\n",
              "      <td>110555.000000</td>\n",
              "      <td>110555.000000</td>\n",
              "      <td>110555.000000</td>\n",
              "      <td>110555.000000</td>\n",
              "      <td>110555.000000</td>\n",
              "      <td>110555.000000</td>\n",
              "    </tr>\n",
              "    <tr>\n",
              "      <th>mean</th>\n",
              "      <td>0.141111</td>\n",
              "      <td>0.054230</td>\n",
              "      <td>0.030402</td>\n",
              "      <td>43.364186</td>\n",
              "      <td>10.586998</td>\n",
              "      <td>6.382218</td>\n",
              "    </tr>\n",
              "    <tr>\n",
              "      <th>std</th>\n",
              "      <td>0.024736</td>\n",
              "      <td>0.049966</td>\n",
              "      <td>0.036322</td>\n",
              "      <td>5.343227</td>\n",
              "      <td>12.841245</td>\n",
              "      <td>7.766258</td>\n",
              "    </tr>\n",
              "    <tr>\n",
              "      <th>min</th>\n",
              "      <td>0.000000</td>\n",
              "      <td>0.000000</td>\n",
              "      <td>0.000000</td>\n",
              "      <td>0.000000</td>\n",
              "      <td>0.000000</td>\n",
              "      <td>0.000000</td>\n",
              "    </tr>\n",
              "    <tr>\n",
              "      <th>25%</th>\n",
              "      <td>0.125976</td>\n",
              "      <td>0.000000</td>\n",
              "      <td>0.000000</td>\n",
              "      <td>40.728885</td>\n",
              "      <td>0.000000</td>\n",
              "      <td>0.000000</td>\n",
              "    </tr>\n",
              "    <tr>\n",
              "      <th>50%</th>\n",
              "      <td>0.146033</td>\n",
              "      <td>0.085390</td>\n",
              "      <td>0.000000</td>\n",
              "      <td>44.266930</td>\n",
              "      <td>0.000000</td>\n",
              "      <td>0.000000</td>\n",
              "    </tr>\n",
              "    <tr>\n",
              "      <th>75%</th>\n",
              "      <td>0.151635</td>\n",
              "      <td>0.101673</td>\n",
              "      <td>0.072558</td>\n",
              "      <td>44.444710</td>\n",
              "      <td>24.339581</td>\n",
              "      <td>16.226389</td>\n",
              "    </tr>\n",
              "    <tr>\n",
              "      <th>max</th>\n",
              "      <td>0.280700</td>\n",
              "      <td>0.181480</td>\n",
              "      <td>0.114102</td>\n",
              "      <td>59.444710</td>\n",
              "      <td>36.490692</td>\n",
              "      <td>17.458221</td>\n",
              "    </tr>\n",
              "  </tbody>\n",
              "</table>\n",
              "</div>\n",
              "      <button class=\"colab-df-convert\" onclick=\"convertToInteractive('df-8bf8956d-5ea1-4118-bb17-a5aa52384f6b')\"\n",
              "              title=\"Convert this dataframe to an interactive table.\"\n",
              "              style=\"display:none;\">\n",
              "\n",
              "  <svg xmlns=\"http://www.w3.org/2000/svg\" height=\"24px\"viewBox=\"0 0 24 24\"\n",
              "       width=\"24px\">\n",
              "    <path d=\"M0 0h24v24H0V0z\" fill=\"none\"/>\n",
              "    <path d=\"M18.56 5.44l.94 2.06.94-2.06 2.06-.94-2.06-.94-.94-2.06-.94 2.06-2.06.94zm-11 1L8.5 8.5l.94-2.06 2.06-.94-2.06-.94L8.5 2.5l-.94 2.06-2.06.94zm10 10l.94 2.06.94-2.06 2.06-.94-2.06-.94-.94-2.06-.94 2.06-2.06.94z\"/><path d=\"M17.41 7.96l-1.37-1.37c-.4-.4-.92-.59-1.43-.59-.52 0-1.04.2-1.43.59L10.3 9.45l-7.72 7.72c-.78.78-.78 2.05 0 2.83L4 21.41c.39.39.9.59 1.41.59.51 0 1.02-.2 1.41-.59l7.78-7.78 2.81-2.81c.8-.78.8-2.07 0-2.86zM5.41 20L4 18.59l7.72-7.72 1.47 1.35L5.41 20z\"/>\n",
              "  </svg>\n",
              "      </button>\n",
              "\n",
              "\n",
              "\n",
              "    <div id=\"df-e73cfab7-cafc-4f3b-bb11-965a1b91a8ca\">\n",
              "      <button class=\"colab-df-quickchart\" onclick=\"quickchart('df-e73cfab7-cafc-4f3b-bb11-965a1b91a8ca')\"\n",
              "              title=\"Suggest charts.\"\n",
              "              style=\"display:none;\">\n",
              "\n",
              "<svg xmlns=\"http://www.w3.org/2000/svg\" height=\"24px\"viewBox=\"0 0 24 24\"\n",
              "     width=\"24px\">\n",
              "    <g>\n",
              "        <path d=\"M19 3H5c-1.1 0-2 .9-2 2v14c0 1.1.9 2 2 2h14c1.1 0 2-.9 2-2V5c0-1.1-.9-2-2-2zM9 17H7v-7h2v7zm4 0h-2V7h2v10zm4 0h-2v-4h2v4z\"/>\n",
              "    </g>\n",
              "</svg>\n",
              "      </button>\n",
              "    </div>\n",
              "\n",
              "<style>\n",
              "  .colab-df-quickchart {\n",
              "    background-color: #E8F0FE;\n",
              "    border: none;\n",
              "    border-radius: 50%;\n",
              "    cursor: pointer;\n",
              "    display: none;\n",
              "    fill: #1967D2;\n",
              "    height: 32px;\n",
              "    padding: 0 0 0 0;\n",
              "    width: 32px;\n",
              "  }\n",
              "\n",
              "  .colab-df-quickchart:hover {\n",
              "    background-color: #E2EBFA;\n",
              "    box-shadow: 0px 1px 2px rgba(60, 64, 67, 0.3), 0px 1px 3px 1px rgba(60, 64, 67, 0.15);\n",
              "    fill: #174EA6;\n",
              "  }\n",
              "\n",
              "  [theme=dark] .colab-df-quickchart {\n",
              "    background-color: #3B4455;\n",
              "    fill: #D2E3FC;\n",
              "  }\n",
              "\n",
              "  [theme=dark] .colab-df-quickchart:hover {\n",
              "    background-color: #434B5C;\n",
              "    box-shadow: 0px 1px 3px 1px rgba(0, 0, 0, 0.15);\n",
              "    filter: drop-shadow(0px 1px 2px rgba(0, 0, 0, 0.3));\n",
              "    fill: #FFFFFF;\n",
              "  }\n",
              "</style>\n",
              "\n",
              "    <script>\n",
              "      async function quickchart(key) {\n",
              "        const containerElement = document.querySelector('#' + key);\n",
              "        const charts = await google.colab.kernel.invokeFunction(\n",
              "            'suggestCharts', [key], {});\n",
              "      }\n",
              "    </script>\n",
              "\n",
              "      <script>\n",
              "\n",
              "function displayQuickchartButton(domScope) {\n",
              "  let quickchartButtonEl =\n",
              "    domScope.querySelector('#df-e73cfab7-cafc-4f3b-bb11-965a1b91a8ca button.colab-df-quickchart');\n",
              "  quickchartButtonEl.style.display =\n",
              "    google.colab.kernel.accessAllowed ? 'block' : 'none';\n",
              "}\n",
              "\n",
              "        displayQuickchartButton(document);\n",
              "      </script>\n",
              "      <style>\n",
              "    .colab-df-container {\n",
              "      display:flex;\n",
              "      flex-wrap:wrap;\n",
              "      gap: 12px;\n",
              "    }\n",
              "\n",
              "    .colab-df-convert {\n",
              "      background-color: #E8F0FE;\n",
              "      border: none;\n",
              "      border-radius: 50%;\n",
              "      cursor: pointer;\n",
              "      display: none;\n",
              "      fill: #1967D2;\n",
              "      height: 32px;\n",
              "      padding: 0 0 0 0;\n",
              "      width: 32px;\n",
              "    }\n",
              "\n",
              "    .colab-df-convert:hover {\n",
              "      background-color: #E2EBFA;\n",
              "      box-shadow: 0px 1px 2px rgba(60, 64, 67, 0.3), 0px 1px 3px 1px rgba(60, 64, 67, 0.15);\n",
              "      fill: #174EA6;\n",
              "    }\n",
              "\n",
              "    [theme=dark] .colab-df-convert {\n",
              "      background-color: #3B4455;\n",
              "      fill: #D2E3FC;\n",
              "    }\n",
              "\n",
              "    [theme=dark] .colab-df-convert:hover {\n",
              "      background-color: #434B5C;\n",
              "      box-shadow: 0px 1px 3px 1px rgba(0, 0, 0, 0.15);\n",
              "      filter: drop-shadow(0px 1px 2px rgba(0, 0, 0, 0.3));\n",
              "      fill: #FFFFFF;\n",
              "    }\n",
              "  </style>\n",
              "\n",
              "      <script>\n",
              "        const buttonEl =\n",
              "          document.querySelector('#df-8bf8956d-5ea1-4118-bb17-a5aa52384f6b button.colab-df-convert');\n",
              "        buttonEl.style.display =\n",
              "          google.colab.kernel.accessAllowed ? 'block' : 'none';\n",
              "\n",
              "        async function convertToInteractive(key) {\n",
              "          const element = document.querySelector('#df-8bf8956d-5ea1-4118-bb17-a5aa52384f6b');\n",
              "          const dataTable =\n",
              "            await google.colab.kernel.invokeFunction('convertToInteractive',\n",
              "                                                     [key], {});\n",
              "          if (!dataTable) return;\n",
              "\n",
              "          const docLinkHtml = 'Like what you see? Visit the ' +\n",
              "            '<a target=\"_blank\" href=https://colab.research.google.com/notebooks/data_table.ipynb>data table notebook</a>'\n",
              "            + ' to learn more about interactive tables.';\n",
              "          element.innerHTML = '';\n",
              "          dataTable['output_type'] = 'display_data';\n",
              "          await google.colab.output.renderOutput(dataTable, element);\n",
              "          const docLink = document.createElement('div');\n",
              "          docLink.innerHTML = docLinkHtml;\n",
              "          element.appendChild(docLink);\n",
              "        }\n",
              "      </script>\n",
              "    </div>\n",
              "  </div>\n"
            ]
          },
          "metadata": {},
          "execution_count": 26
        }
      ],
      "source": [
        "price_df.describe()"
      ]
    },
    {
      "cell_type": "markdown",
      "id": "6a7a8879-c483-4464-9057-c70e6b150e53",
      "metadata": {
        "id": "6a7a8879-c483-4464-9057-c70e6b150e53"
      },
      "source": [
        "Overall the price data looks good.\n",
        "\n",
        "---\n",
        "\n",
        "## 3. Data visualization\n",
        "\n",
        "Now let's dive a bit deeper into the dataframes"
      ]
    },
    {
      "cell_type": "code",
      "execution_count": 27,
      "id": "f350ea0a-dc45-43f5-a6b7-e5e816964419",
      "metadata": {
        "id": "f350ea0a-dc45-43f5-a6b7-e5e816964419"
      },
      "outputs": [],
      "source": [
        "def plot_stacked_bars(dataframe, title_, size_=(18, 10), rot_=0, legend_=\"upper right\"):\n",
        "    \"\"\"\n",
        "    Plot stacked bars with annotations\n",
        "    \"\"\"\n",
        "    ax = dataframe.plot(\n",
        "        kind=\"bar\",\n",
        "        stacked=True,\n",
        "        figsize=size_,\n",
        "        rot=rot_,\n",
        "        title=title_\n",
        "    )\n",
        "\n",
        "    # Annotate bars\n",
        "    annotate_stacked_bars(ax, textsize=14)\n",
        "    # Rename legend\n",
        "    plt.legend([\"Retention\", \"Churn\"], loc=legend_)\n",
        "    # Labels\n",
        "    plt.ylabel(\"Company base (%)\")\n",
        "    plt.show()\n",
        "\n",
        "def annotate_stacked_bars(ax, pad=0.99, colour=\"white\", textsize=13):\n",
        "    \"\"\"\n",
        "    Add value annotations to the bars\n",
        "    \"\"\"\n",
        "\n",
        "    # Iterate over the plotted rectanges/bars\n",
        "    for p in ax.patches:\n",
        "\n",
        "        # Calculate annotation\n",
        "        value = str(round(p.get_height(),1))\n",
        "        # If value is 0 do not annotate\n",
        "        if value == '0.0':\n",
        "            continue\n",
        "        ax.annotate(\n",
        "            value,\n",
        "            ((p.get_x()+ p.get_width()/2)*pad-0.05, (p.get_y()+p.get_height()/2)*pad),\n",
        "            color=colour,\n",
        "            size=textsize\n",
        "        )"
      ]
    },
    {
      "cell_type": "markdown",
      "id": "27fe9008",
      "metadata": {
        "id": "27fe9008"
      },
      "source": [
        "### Churn"
      ]
    },
    {
      "cell_type": "code",
      "execution_count": 28,
      "id": "3ea468a3",
      "metadata": {
        "id": "3ea468a3"
      },
      "outputs": [],
      "source": [
        "churn = client_df[['id', 'churn']]\n",
        "churn.columns = ['Companies', 'churn']\n",
        "churn_total = churn.groupby(churn['churn']).count()\n",
        "churn_percentage = churn_total / churn_total.sum() * 100"
      ]
    },
    {
      "cell_type": "code",
      "execution_count": 29,
      "id": "f428cb9c",
      "metadata": {
        "colab": {
          "base_uri": "https://localhost:8080/",
          "height": 472
        },
        "id": "f428cb9c",
        "outputId": "95a19602-36ca-40ed-a3a6-ae0e4a75a848"
      },
      "outputs": [
        {
          "output_type": "display_data",
          "data": {
            "text/plain": [
              "<Figure size 500x500 with 1 Axes>"
            ],
            "image/png": "[encoded data removed]"
          },
          "metadata": {}
        }
      ],
      "source": [
        "plot_stacked_bars(churn_percentage.transpose(), \"Churning status\", (5, 5), legend_=\"lower right\")"
      ]
    },
    {
      "cell_type": "markdown",
      "id": "872e2a36",
      "metadata": {
        "id": "872e2a36"
      },
      "source": [
        "About 10% of the total customers have churned. (This sounds about right)"
      ]
    },
    {
      "cell_type": "markdown",
      "id": "36ca202c",
      "metadata": {
        "id": "36ca202c"
      },
      "source": [
        "### Sales channel"
      ]
    },
    {
      "cell_type": "code",
      "execution_count": 30,
      "id": "f9539908",
      "metadata": {
        "id": "f9539908"
      },
      "outputs": [],
      "source": [
        "channel = client_df[['id', 'channel_sales', 'churn']]\n",
        "channel = channel.groupby([channel['channel_sales'], channel['churn']])['id'].count().unstack(level=1).fillna(0)\n",
        "channel_churn = (channel.div(channel.sum(axis=1), axis=0) * 100).sort_values(by=[1], ascending=False)"
      ]
    },
    {
      "cell_type": "code",
      "execution_count": 31,
      "id": "2cf4d887",
      "metadata": {
        "colab": {
          "base_uri": "https://localhost:8080/",
          "height": 772
        },
        "id": "2cf4d887",
        "outputId": "3b8bb55a-ebb3-4ab9-8184-8d6aaa64dcf9"
      },
      "outputs": [
        {
          "output_type": "display_data",
          "data": {
            "text/plain": [
              "<Figure size 1800x1000 with 1 Axes>"
            ],
            "image/png": "[encoded data removed]"
          },
          "metadata": {}
        }
      ],
      "source": [
        "plot_stacked_bars(channel_churn, 'Sales channel', rot_=30)"
      ]
    },
    {
      "cell_type": "markdown",
      "id": "cdd8f022",
      "metadata": {
        "id": "cdd8f022"
      },
      "source": [
        "Interestingly, the churning customers are distributed over 5 different values for `channel_sales`. As well as this, the value of `MISSING` has a churn rate of 7.6%. `MISSING` indicates a missing value and was added by the team when they were cleaning the dataset. This feature could be an important feature when it comes to building our model.\n",
        "\n",
        "### Consumption\n",
        "\n",
        "Let's see the distribution of the consumption in the last year and month. Since the consumption data is univariate, let's use histograms to visualize their distribution."
      ]
    },
    {
      "cell_type": "code",
      "execution_count": 32,
      "id": "d055f10e",
      "metadata": {
        "id": "d055f10e"
      },
      "outputs": [],
      "source": [
        "consumption = client_df[['id', 'cons_12m', 'cons_gas_12m', 'cons_last_month', 'imp_cons', 'has_gas', 'churn']]"
      ]
    },
    {
      "cell_type": "code",
      "execution_count": 33,
      "id": "9a28757e",
      "metadata": {
        "id": "9a28757e"
      },
      "outputs": [],
      "source": [
        "def plot_distribution(dataframe, column, ax, bins_=50):\n",
        "    \"\"\"\n",
        "    Plot variable distirbution in a stacked histogram of churned or retained company\n",
        "    \"\"\"\n",
        "    # Create a temporal dataframe with the data to be plot\n",
        "    temp = pd.DataFrame({\"Retention\": dataframe[dataframe[\"churn\"]==0][column],\n",
        "    \"Churn\":dataframe[dataframe[\"churn\"]==1][column]})\n",
        "    # Plot the histogram\n",
        "    temp[[\"Retention\",\"Churn\"]].plot(kind='hist', bins=bins_, ax=ax, stacked=True)\n",
        "    # X-axis label\n",
        "    ax.set_xlabel(column)\n",
        "    # Change the x-axis to plain style\n",
        "    ax.ticklabel_format(style='plain', axis='x')"
      ]
    },
    {
      "cell_type": "code",
      "execution_count": 34,
      "id": "edc098b3",
      "metadata": {
        "colab": {
          "base_uri": "https://localhost:8080/",
          "height": 1000
        },
        "id": "edc098b3",
        "outputId": "5610c4b1-88bf-473d-e0b3-72180ead4721"
      },
      "outputs": [
        {
          "output_type": "display_data",
          "data": {
            "text/plain": [
              "<Figure size 1800x2500 with 4 Axes>"
            ],
            "image/png": "[encoded data removed]"
          },
          "metadata": {}
        }
      ],
      "source": [
        "fig, axs = plt.subplots(nrows=4, figsize=(18, 25))\n",
        "\n",
        "plot_distribution(consumption, 'cons_12m', axs[0])\n",
        "plot_distribution(consumption[consumption['has_gas'] == 't'], 'cons_gas_12m', axs[1])\n",
        "plot_distribution(consumption, 'cons_last_month', axs[2])\n",
        "plot_distribution(consumption, 'imp_cons', axs[3])"
      ]
    },
    {
      "cell_type": "markdown",
      "id": "3e575378",
      "metadata": {
        "id": "3e575378"
      },
      "source": [
        "Clearly, the consumption data is highly positively skewed, presenting a very long right-tail towards the higher values of the distribution. The values on the higher and lower end of the distribution are likely to be outliers. We can use a standard plot to visualise the outliers in more detail. A boxplot is a standardized way of displaying the distribution based on a five number summary:\n",
        "- Minimum\n",
        "- First quartile (Q1)\n",
        "- Median\n",
        "- Third quartile (Q3)\n",
        "- Maximum\n",
        "\n",
        "It can reveal outliers and what their values are. It can also tell us if our data is symmetrical, how tightly our data is grouped and if/how our data is skewed."
      ]
    },
    {
      "cell_type": "markdown",
      "id": "54525b74",
      "metadata": {
        "id": "54525b74"
      },
      "source": [
        "We will deal with skewness and outliers during feature engineering in the next exercise.\n",
        "\n",
        "### Forecast"
      ]
    },
    {
      "cell_type": "code",
      "execution_count": 35,
      "id": "21bff478",
      "metadata": {
        "colab": {
          "base_uri": "https://localhost:8080/",
          "height": 381
        },
        "id": "21bff478",
        "outputId": "c5233cdf-5ac1-4207-f4d1-957bc202b07e"
      },
      "outputs": [
        {
          "output_type": "error",
          "ename": "KeyError",
          "evalue": "ignored",
          "traceback": [
            "\u001b[0;31m---------------------------------------------------------------------------\u001b[0m",
            "\u001b[0;31mKeyError\u001b[0m                                  Traceback (most recent call last)",
            "\u001b[0;32m<ipython-input-35-3c62ad1f8ab2>\u001b[0m in \u001b[0;36m<cell line: 1>\u001b[0;34m()\u001b[0m\n\u001b[0;32m----> 1\u001b[0;31m forecast = client_df[\n\u001b[0m\u001b[1;32m      2\u001b[0m     [\"id\", \"forecast_cons_12m\",\n\u001b[1;32m      3\u001b[0m     \u001b[0;34m\"forecast_cons_year\"\u001b[0m\u001b[0;34m,\u001b[0m\u001b[0;34m\"forecast_discount_energy\"\u001b[0m\u001b[0;34m,\u001b[0m\u001b[0;34m\"forecast_meter_rent_12m\"\u001b[0m\u001b[0;34m,\u001b[0m\u001b[0;34m\u001b[0m\u001b[0;34m\u001b[0m\u001b[0m\n\u001b[1;32m      4\u001b[0m     \u001b[0;34m\"forecast_price_energy_p1\"\u001b[0m\u001b[0;34m,\u001b[0m\u001b[0;34m\"forecast_price_energy_p2\"\u001b[0m\u001b[0;34m,\u001b[0m\u001b[0;34m\u001b[0m\u001b[0;34m\u001b[0m\u001b[0m\n\u001b[1;32m      5\u001b[0m     \u001b[0;34m\"forecast_price_pow_p1\"\u001b[0m\u001b[0;34m,\u001b[0m\u001b[0;34m\"churn\"\u001b[0m\u001b[0;34m\u001b[0m\u001b[0;34m\u001b[0m\u001b[0m\n",
            "\u001b[0;32m/usr/local/lib/python3.10/dist-packages/pandas/core/frame.py\u001b[0m in \u001b[0;36m__getitem__\u001b[0;34m(self, key)\u001b[0m\n\u001b[1;32m   3811\u001b[0m             \u001b[0;32mif\u001b[0m \u001b[0mis_iterator\u001b[0m\u001b[0;34m(\u001b[0m\u001b[0mkey\u001b[0m\u001b[0;34m)\u001b[0m\u001b[0;34m:\u001b[0m\u001b[0;34m\u001b[0m\u001b[0;34m\u001b[0m\u001b[0m\n\u001b[1;32m   3812\u001b[0m                 \u001b[0mkey\u001b[0m \u001b[0;34m=\u001b[0m \u001b[0mlist\u001b[0m\u001b[0;34m(\u001b[0m\u001b[0mkey\u001b[0m\u001b[0;34m)\u001b[0m\u001b[0;34m\u001b[0m\u001b[0;34m\u001b[0m\u001b[0m\n\u001b[0;32m-> 3813\u001b[0;31m             \u001b[0mindexer\u001b[0m \u001b[0;34m=\u001b[0m \u001b[0mself\u001b[0m\u001b[0;34m.\u001b[0m\u001b[0mcolumns\u001b[0m\u001b[0;34m.\u001b[0m\u001b[0m_get_indexer_strict\u001b[0m\u001b[0;34m(\u001b[0m\u001b[0mkey\u001b[0m\u001b[0;34m,\u001b[0m \u001b[0;34m\"columns\"\u001b[0m\u001b[0;34m)\u001b[0m\u001b[0;34m[\u001b[0m\u001b[0;36m1\u001b[0m\u001b[0;34m]\u001b[0m\u001b[0;34m\u001b[0m\u001b[0;34m\u001b[0m\u001b[0m\n\u001b[0m\u001b[1;32m   3814\u001b[0m \u001b[0;34m\u001b[0m\u001b[0m\n\u001b[1;32m   3815\u001b[0m         \u001b[0;31m# take() does not accept boolean indexers\u001b[0m\u001b[0;34m\u001b[0m\u001b[0;34m\u001b[0m\u001b[0m\n",
            "\u001b[0;32m/usr/local/lib/python3.10/dist-packages/pandas/core/indexes/base.py\u001b[0m in \u001b[0;36m_get_indexer_strict\u001b[0;34m(self, key, axis_name)\u001b[0m\n\u001b[1;32m   6068\u001b[0m             \u001b[0mkeyarr\u001b[0m\u001b[0;34m,\u001b[0m \u001b[0mindexer\u001b[0m\u001b[0;34m,\u001b[0m \u001b[0mnew_indexer\u001b[0m \u001b[0;34m=\u001b[0m \u001b[0mself\u001b[0m\u001b[0;34m.\u001b[0m\u001b[0m_reindex_non_unique\u001b[0m\u001b[0;34m(\u001b[0m\u001b[0mkeyarr\u001b[0m\u001b[0;34m)\u001b[0m\u001b[0;34m\u001b[0m\u001b[0;34m\u001b[0m\u001b[0m\n\u001b[1;32m   6069\u001b[0m \u001b[0;34m\u001b[0m\u001b[0m\n\u001b[0;32m-> 6070\u001b[0;31m         \u001b[0mself\u001b[0m\u001b[0;34m.\u001b[0m\u001b[0m_raise_if_missing\u001b[0m\u001b[0;34m(\u001b[0m\u001b[0mkeyarr\u001b[0m\u001b[0;34m,\u001b[0m \u001b[0mindexer\u001b[0m\u001b[0;34m,\u001b[0m \u001b[0maxis_name\u001b[0m\u001b[0;34m)\u001b[0m\u001b[0;34m\u001b[0m\u001b[0;34m\u001b[0m\u001b[0m\n\u001b[0m\u001b[1;32m   6071\u001b[0m \u001b[0;34m\u001b[0m\u001b[0m\n\u001b[1;32m   6072\u001b[0m         \u001b[0mkeyarr\u001b[0m \u001b[0;34m=\u001b[0m \u001b[0mself\u001b[0m\u001b[0;34m.\u001b[0m\u001b[0mtake\u001b[0m\u001b[0;34m(\u001b[0m\u001b[0mindexer\u001b[0m\u001b[0;34m)\u001b[0m\u001b[0;34m\u001b[0m\u001b[0;34m\u001b[0m\u001b[0m\n",
            "\u001b[0;32m/usr/local/lib/python3.10/dist-packages/pandas/core/indexes/base.py\u001b[0m in \u001b[0;36m_raise_if_missing\u001b[0;34m(self, key, indexer, axis_name)\u001b[0m\n\u001b[1;32m   6131\u001b[0m \u001b[0;34m\u001b[0m\u001b[0m\n\u001b[1;32m   6132\u001b[0m             \u001b[0mnot_found\u001b[0m \u001b[0;34m=\u001b[0m \u001b[0mlist\u001b[0m\u001b[0;34m(\u001b[0m\u001b[0mensure_index\u001b[0m\u001b[0;34m(\u001b[0m\u001b[0mkey\u001b[0m\u001b[0;34m)\u001b[0m\u001b[0;34m[\u001b[0m\u001b[0mmissing_mask\u001b[0m\u001b[0;34m.\u001b[0m\u001b[0mnonzero\u001b[0m\u001b[0;34m(\u001b[0m\u001b[0;34m)\u001b[0m\u001b[0;34m[\u001b[0m\u001b[0;36m0\u001b[0m\u001b[0;34m]\u001b[0m\u001b[0;34m]\u001b[0m\u001b[0;34m.\u001b[0m\u001b[0munique\u001b[0m\u001b[0;34m(\u001b[0m\u001b[0;34m)\u001b[0m\u001b[0;34m)\u001b[0m\u001b[0;34m\u001b[0m\u001b[0;34m\u001b[0m\u001b[0m\n\u001b[0;32m-> 6133\u001b[0;31m             \u001b[0;32mraise\u001b[0m \u001b[0mKeyError\u001b[0m\u001b[0;34m(\u001b[0m\u001b[0;34mf\"{not_found} not in index\"\u001b[0m\u001b[0;34m)\u001b[0m\u001b[0;34m\u001b[0m\u001b[0;34m\u001b[0m\u001b[0m\n\u001b[0m\u001b[1;32m   6134\u001b[0m \u001b[0;34m\u001b[0m\u001b[0m\n\u001b[1;32m   6135\u001b[0m     \u001b[0;34m@\u001b[0m\u001b[0moverload\u001b[0m\u001b[0;34m\u001b[0m\u001b[0;34m\u001b[0m\u001b[0m\n",
            "\u001b[0;31mKeyError\u001b[0m: \"['forecast_price_energy_p1', 'forecast_price_energy_p2', 'forecast_price_pow_p1'] not in index\""
          ]
        }
      ],
      "source": [
        "forecast = client_df[\n",
        "    [\"id\", \"forecast_cons_12m\",\n",
        "    \"forecast_cons_year\",\"forecast_discount_energy\",\"forecast_meter_rent_12m\",\n",
        "    \"forecast_price_energy_p1\",\"forecast_price_energy_p2\",\n",
        "    \"forecast_price_pow_p1\",\"churn\"\n",
        "    ]\n",
        "]"
      ]
    },
    {
      "cell_type": "code",
      "execution_count": null,
      "id": "77ca25da",
      "metadata": {
        "id": "77ca25da"
      },
      "outputs": [],
      "source": [
        "fig, axs = plt.subplots(nrows=7, figsize=(18,50))\n",
        "\n",
        "# Plot histogram\n",
        "plot_distribution(client_df, \"forecast_cons_12m\", axs[0])\n",
        "plot_distribution(client_df, \"forecast_cons_year\", axs[1])\n",
        "plot_distribution(client_df, \"forecast_discount_energy\", axs[2])\n",
        "plot_distribution(client_df, \"forecast_meter_rent_12m\", axs[3])\n",
        "plot_distribution(client_df, \"forecast_price_energy_p1\", axs[4])\n",
        "plot_distribution(client_df, \"forecast_price_energy_p2\", axs[5])\n",
        "plot_distribution(client_df, \"forecast_price_pow_p1\", axs[6])"
      ]
    },
    {
      "cell_type": "markdown",
      "id": "a9149879",
      "metadata": {
        "id": "a9149879"
      },
      "source": [
        "Similarly to the consumption plots, we can observe that a lot of the variables are highly positively skewed, creating a very long tail for the higher values. We will make some transformations during the next exercise to correct for this skewness.\n",
        "\n",
        "### Contract type"
      ]
    },
    {
      "cell_type": "code",
      "execution_count": null,
      "id": "c98fb390",
      "metadata": {
        "id": "c98fb390"
      },
      "outputs": [],
      "source": [
        "contract_type = client_df[['id', 'has_gas', 'churn']]\n",
        "contract = contract_type.groupby([contract_type['churn'], contract_type['has_gas']])['id'].count().unstack(level=0)\n",
        "contract_percentage = (contract.div(contract.sum(axis=1), axis=0) * 100).sort_values(by=[1], ascending=False)"
      ]
    },
    {
      "cell_type": "code",
      "execution_count": null,
      "id": "7b797da0",
      "metadata": {
        "id": "7b797da0"
      },
      "outputs": [],
      "source": [
        "plot_stacked_bars(contract_percentage, 'Contract type (with gas')"
      ]
    },
    {
      "cell_type": "markdown",
      "id": "ff4c4c54",
      "metadata": {
        "id": "ff4c4c54"
      },
      "source": [
        "### Margins"
      ]
    },
    {
      "cell_type": "code",
      "execution_count": null,
      "id": "f7457f3a",
      "metadata": {
        "id": "f7457f3a"
      },
      "outputs": [],
      "source": [
        "margin = client_df[['id', 'margin_gross_pow_ele', 'margin_net_pow_ele', 'net_margin']]"
      ]
    },
    {
      "cell_type": "code",
      "execution_count": null,
      "id": "6c43577a",
      "metadata": {
        "id": "6c43577a"
      },
      "outputs": [],
      "source": [
        "fig, axs = plt.subplots(nrows=3, figsize=(18,20))\n",
        "# Plot histogram\n",
        "sns.boxplot(margin[\"margin_gross_pow_ele\"], ax=axs[0])\n",
        "sns.boxplot(margin[\"margin_net_pow_ele\"],ax=axs[1])\n",
        "sns.boxplot(margin[\"net_margin\"], ax=axs[2])\n",
        "# Remove scientific notation\n",
        "axs[0].ticklabel_format(style='plain', axis='x')\n",
        "axs[1].ticklabel_format(style='plain', axis='x')\n",
        "axs[2].ticklabel_format(style='plain', axis='x')\n",
        "plt.show()"
      ]
    },
    {
      "cell_type": "markdown",
      "id": "c4b1364b",
      "metadata": {
        "id": "c4b1364b"
      },
      "source": [
        "We can see some outliers here as well which we will deal with in the next exercise.\n",
        "\n",
        "### Subscribed power"
      ]
    },
    {
      "cell_type": "code",
      "execution_count": null,
      "id": "cd5732da",
      "metadata": {
        "id": "cd5732da"
      },
      "outputs": [],
      "source": [
        "power = client_df[['id', 'pow_max', 'churn']]"
      ]
    },
    {
      "cell_type": "code",
      "execution_count": null,
      "id": "84d3b9f8",
      "metadata": {
        "id": "84d3b9f8"
      },
      "outputs": [],
      "source": [
        "fig, axs = plt.subplots(nrows=1, figsize=(18, 10))\n",
        "plot_distribution(power, 'pow_max', axs)"
      ]
    },
    {
      "cell_type": "markdown",
      "id": "bd9df406",
      "metadata": {
        "id": "bd9df406"
      },
      "source": [
        "### Other columns"
      ]
    },
    {
      "cell_type": "code",
      "execution_count": null,
      "id": "104843ca",
      "metadata": {
        "id": "104843ca"
      },
      "outputs": [],
      "source": [
        "others = client_df[['id', 'nb_prod_act', 'num_years_antig', 'origin_up', 'churn']]\n",
        "products = others.groupby([others[\"nb_prod_act\"],others[\"churn\"]])[\"id\"].count().unstack(level=1)\n",
        "products_percentage = (products.div(products.sum(axis=1), axis=0)*100).sort_values(by=[1], ascending=False)"
      ]
    },
    {
      "cell_type": "code",
      "execution_count": null,
      "id": "f71567b0",
      "metadata": {
        "id": "f71567b0"
      },
      "outputs": [],
      "source": [
        "plot_stacked_bars(products_percentage, \"Number of products\")"
      ]
    },
    {
      "cell_type": "code",
      "execution_count": null,
      "id": "3395e95e",
      "metadata": {
        "id": "3395e95e"
      },
      "outputs": [],
      "source": [
        "years_antig = others.groupby([others[\"num_years_antig\"],others[\"churn\"]])[\"id\"].count().unstack(level=1)\n",
        "years_antig_percentage = (years_antig.div(years_antig.sum(axis=1), axis=0)*100)\n",
        "plot_stacked_bars(years_antig_percentage, \"Number years\")"
      ]
    },
    {
      "cell_type": "code",
      "execution_count": null,
      "id": "9c6c4293",
      "metadata": {
        "id": "9c6c4293"
      },
      "outputs": [],
      "source": [
        "origin = others.groupby([others[\"origin_up\"],others[\"churn\"]])[\"id\"].count().unstack(level=1)\n",
        "origin_percentage = (origin.div(origin.sum(axis=1), axis=0)*100)\n",
        "plot_stacked_bars(origin_percentage, \"Origin contract/offer\")"
      ]
    },
    {
      "cell_type": "markdown",
      "id": "66cd51fb",
      "metadata": {
        "id": "66cd51fb"
      },
      "source": [
        "## 5. Hypothesis investigation\n",
        "\n",
        "Now that we have explored the data, it's time to investigate whether price sensitivity has some influence on churn. First we need to define exactly what is price sensitivity.\n",
        "\n",
        "    > Since we have the consumption data for each of the companies for the year of 2015, we will create new features to measure \"price sensitivity\" using the average of the year, the last 6 months and the last 3 months\n"
      ]
    },
    {
      "cell_type": "code",
      "execution_count": null,
      "id": "a95d9448",
      "metadata": {
        "id": "a95d9448"
      },
      "outputs": [],
      "source": [
        "# Transform date columns to datetime type\n",
        "client_df[\"date_activ\"] = pd.to_datetime(client_df[\"date_activ\"], format='%Y-%m-%d')\n",
        "client_df[\"date_end\"] = pd.to_datetime(client_df[\"date_end\"], format='%Y-%m-%d')\n",
        "client_df[\"date_modif_prod\"] = pd.to_datetime(client_df[\"date_modif_prod\"], format='%Y-%m-%d')\n",
        "client_df[\"date_renewal\"] = pd.to_datetime(client_df[\"date_renewal\"], format='%Y-%m-%d')\n",
        "price_df['price_date'] = pd.to_datetime(price_df['price_date'], format='%Y-%m-%d')\n",
        "\n",
        "# Create mean average data\n",
        "mean_year = price_df.groupby(['id']).mean().reset_index()\n",
        "mean_6m = price_df[price_df['price_date'] > '2015-06-01'].groupby(['id']).mean().reset_index()\n",
        "mean_3m = price_df[price_df['price_date'] > '2015-10-01'].groupby(['id']).mean().reset_index()\n",
        "\n",
        "# Comnbine into single dataframe\n",
        "mean_year = mean_year.rename(\n",
        "    index=str,\n",
        "    columns={\n",
        "        \"price_p1_var\": \"mean_year_price_p1_var\",\n",
        "        \"price_p2_var\": \"mean_year_price_p2_var\",\n",
        "        \"price_p3_var\": \"mean_year_price_p3_var\",\n",
        "        \"price_p1_fix\": \"mean_year_price_p1_fix\",\n",
        "        \"price_p2_fix\": \"mean_year_price_p2_fix\",\n",
        "        \"price_p3_fix\": \"mean_year_price_p3_fix\"\n",
        "    }\n",
        ")\n",
        "\n",
        "mean_year[\"mean_year_price_p1\"] = mean_year[\"mean_year_price_p1_var\"] + mean_year[\"mean_year_price_p1_fix\"]\n",
        "mean_year[\"mean_year_price_p2\"] = mean_year[\"mean_year_price_p2_var\"] + mean_year[\"mean_year_price_p2_fix\"]\n",
        "mean_year[\"mean_year_price_p3\"] = mean_year[\"mean_year_price_p3_var\"] + mean_year[\"mean_year_price_p3_fix\"]\n",
        "\n",
        "mean_6m = mean_6m.rename(\n",
        "    index=str,\n",
        "    columns={\n",
        "        \"price_p1_var\": \"mean_6m_price_p1_var\",\n",
        "        \"price_p2_var\": \"mean_6m_price_p2_var\",\n",
        "        \"price_p3_var\": \"mean_6m_price_p3_var\",\n",
        "        \"price_p1_fix\": \"mean_6m_price_p1_fix\",\n",
        "        \"price_p2_fix\": \"mean_6m_price_p2_fix\",\n",
        "        \"price_p3_fix\": \"mean_6m_price_p3_fix\"\n",
        "    }\n",
        ")\n",
        "mean_6m[\"mean_6m_price_p1\"] = mean_6m[\"mean_6m_price_p1_var\"] + mean_6m[\"mean_6m_price_p1_fix\"]\n",
        "mean_6m[\"mean_6m_price_p2\"] = mean_6m[\"mean_6m_price_p2_var\"] + mean_6m[\"mean_6m_price_p2_fix\"]\n",
        "mean_6m[\"mean_6m_price_p3\"] = mean_6m[\"mean_6m_price_p3_var\"] + mean_6m[\"mean_6m_price_p3_fix\"]\n",
        "\n",
        "mean_3m = mean_3m.rename(\n",
        "    index=str,\n",
        "    columns={\n",
        "        \"price_p1_var\": \"mean_3m_price_p1_var\",\n",
        "        \"price_p2_var\": \"mean_3m_price_p2_var\",\n",
        "        \"price_p3_var\": \"mean_3m_price_p3_var\",\n",
        "        \"price_p1_fix\": \"mean_3m_price_p1_fix\",\n",
        "        \"price_p2_fix\": \"mean_3m_price_p2_fix\",\n",
        "        \"price_p3_fix\": \"mean_3m_price_p3_fix\"\n",
        "    }\n",
        ")\n",
        "mean_3m[\"mean_3m_price_p1\"] = mean_3m[\"mean_3m_price_p1_var\"] + mean_3m[\"mean_3m_price_p1_fix\"]\n",
        "mean_3m[\"mean_3m_price_p2\"] = mean_3m[\"mean_3m_price_p2_var\"] + mean_3m[\"mean_3m_price_p2_fix\"]\n",
        "mean_3m[\"mean_3m_price_p3\"] = mean_3m[\"mean_3m_price_p3_var\"] + mean_3m[\"mean_3m_price_p3_fix\"]\n",
        "\n",
        "# Merge into 1 dataframe\n",
        "price_features = pd.merge(mean_year, mean_6m, on='id')\n",
        "price_features = pd.merge(price_features, mean_3m, on='id')"
      ]
    },
    {
      "cell_type": "code",
      "execution_count": null,
      "id": "acca0deb",
      "metadata": {
        "id": "acca0deb"
      },
      "outputs": [],
      "source": [
        "price_features.head()"
      ]
    },
    {
      "cell_type": "markdown",
      "id": "adb4f02d",
      "metadata": {
        "id": "adb4f02d"
      },
      "source": [
        "Now lets merge in the churn data and see whether price sensitivity has any correlation with churn"
      ]
    },
    {
      "cell_type": "code",
      "execution_count": null,
      "id": "4e879a2b",
      "metadata": {
        "id": "4e879a2b"
      },
      "outputs": [],
      "source": [
        "price_analysis = pd.merge(price_features, client_df[['id', 'churn']], on='id')\n",
        "price_analysis.head()"
      ]
    },
    {
      "cell_type": "code",
      "execution_count": null,
      "id": "6fa7f7a8",
      "metadata": {
        "id": "6fa7f7a8"
      },
      "outputs": [],
      "source": [
        "corr = price_analysis.corr()\n",
        "# Plot correlation\n",
        "plt.figure(figsize=(20,18))\n",
        "sns.heatmap(corr, xticklabels=corr.columns.values, yticklabels=corr.columns.values, annot = True, annot_kws={'size':10})\n",
        "# Axis ticks size\n",
        "plt.xticks(fontsize=10)\n",
        "plt.yticks(fontsize=10)\n",
        "plt.show()"
      ]
    },
    {
      "cell_type": "markdown",
      "id": "04544d3d",
      "metadata": {
        "id": "04544d3d"
      },
      "source": [
        "From the correlation plot, it shows a higher magnitude of correlation between other price sensitivity variables, however overall the correlation with churn is very low. This indicates that there is a weak linear relationship between price sensitity and churn. This suggests that for price sensivity to be a major driver for predicting churn, we may need to engineer the feature differently."
      ]
    },
    {
      "cell_type": "code",
      "execution_count": null,
      "id": "9f94b4e5",
      "metadata": {
        "id": "9f94b4e5"
      },
      "outputs": [],
      "source": [
        "merged_data = pd.merge(client_df.drop(columns=['churn']), price_analysis, on='id')"
      ]
    },
    {
      "cell_type": "code",
      "execution_count": null,
      "id": "e6110877",
      "metadata": {
        "id": "e6110877"
      },
      "outputs": [],
      "source": [
        "merged_data.head()"
      ]
    },
    {
      "cell_type": "code",
      "execution_count": null,
      "id": "32b5ea5b",
      "metadata": {
        "id": "32b5ea5b"
      },
      "outputs": [],
      "source": [
        "merged_data.to_csv('clean_data_after_eda.csv')"
      ]
    }
  ],
  "metadata": {
    "interpreter": {
      "hash": "152bf6e7dc8ee53edb5af21dc1a8faeab7f134840808a94079ed98d91ece7e0c"
    },
    "kernelspec": {
      "display_name": "Python 3.7.9 64-bit ('venv': venv)",
      "name": "python3"
    },
    "language_info": {
      "codemirror_mode": {
        "name": "ipython",
        "version": 3
      },
      "file_extension": ".py",
      "mimetype": "text/x-python",
      "name": "python",
      "nbconvert_exporter": "python",
      "pygments_lexer": "ipython3",
      "version": "3.7.9"
    },
    "colab": {
      "provenance": []
    }
  },
  "nbformat": 4,
  "nbformat_minor": 5
}